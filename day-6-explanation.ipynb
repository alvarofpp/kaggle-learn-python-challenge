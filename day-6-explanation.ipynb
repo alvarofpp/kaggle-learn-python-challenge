{
  "cells": [
    {
      "metadata": {
        "_cell_guid": "aaf20c25-4bb0-4830-acde-80de04f80a08",
        "_uuid": "cdaa219bb80cf24a4720a48cd6183f53094c1db2"
      },
      "cell_type": "markdown",
      "source": "Welcome to day 6 of the Python Challenge! Thanks for sticking with me through the weekend :)\n\nIf you missed any of the previous days, here are the links:\n\n- [Day 1 (syntax, variable assignment, numbers)](https://www.kaggle.com/colinmorris/learn-python-challenge-day-1)\n- [Day 2 (functions and getting help)](https://www.kaggle.com/colinmorris/learn-python-challenge-day-2)\n- [Day 3 (booleans and conditionals)](https://www.kaggle.com/colinmorris/learn-python-challenge-day-3)\n- [Day 4 (lists and objects)](https://www.kaggle.com/colinmorris/learn-python-challenge-day-4)\n- [Day 5 (loops and list comprehensions)](https://www.kaggle.com/colinmorris/learn-python-challenge-day-5)\n\nToday will be a double-punch of essential Python types: **strings** and **dictionaries**."
    },
    {
      "metadata": {
        "_cell_guid": "29b5a51e-459a-431c-8918-a3a21b41eb4f",
        "_uuid": "7194ac5e5593acc97b0b5a22db8b2f4f9cc0bf03"
      },
      "cell_type": "markdown",
      "source": "# Strings"
    },
    {
      "metadata": {
        "_uuid": "d9ebd28f489fe692adaf52d9f3f638567b823cdf"
      },
      "cell_type": "markdown",
      "source": "One place where the Python language really shines is in the manipulation of strings.\nThis section will cover some of Python's built-in string methods and formatting operations.\n\nSuch string manipulation patterns come up often in the context of data science work, and is one big perk of Python in this context.\n\n## String syntax\n\nYou've already seen plenty of strings in examples during the previous days, but just to recap, strings in Python can be defined using either single or double quotations. They are functionally equivalent."
    },
    {
      "metadata": {
        "_cell_guid": "f79e4f18-a309-41ae-8172-9e777ea445a0",
        "_uuid": "61864b8da5c77acbd9919fe7d14e855852011c3e",
        "trusted": false,
        "collapsed": true
      },
      "cell_type": "code",
      "source": "x = 'Pluto is a planet'\ny = \"Pluto is a planet\"\nx == y",
      "execution_count": null,
      "outputs": []
    },
    {
      "metadata": {
        "_cell_guid": "e43ca834-e9f5-4f72-bc4b-47fc9fc1f09f",
        "_uuid": "6f8a566765d07f24163209bb8bb264082fa92e74"
      },
      "cell_type": "markdown",
      "source": "Double quotes are convenient if your string contains a single quote character (e.g. representing an apostrophe).\n\nSimilarly, it's easy to create a string that contains double-quotes if you wrap it in single quotes:"
    },
    {
      "metadata": {
        "trusted": false,
        "_uuid": "4e31fbfc2ff0bd6b7247b16a86ee60283f6d256b",
        "collapsed": true
      },
      "cell_type": "code",
      "source": "print(\"Pluto's a planet!\")\nprint('My dog is named \"Pluto\"')",
      "execution_count": null,
      "outputs": []
    },
    {
      "metadata": {
        "_uuid": "ebf557e0fcb4faacd9094309715406994cd281b1"
      },
      "cell_type": "markdown",
      "source": "If we try to put a single quote character inside a single-quoted string, Python gets confused:"
    },
    {
      "metadata": {
        "trusted": false,
        "_uuid": "0703e38110e77dad32f5bfd10c3bcef24859be59",
        "collapsed": true
      },
      "cell_type": "code",
      "source": "'Pluto's a planet!'",
      "execution_count": null,
      "outputs": []
    },
    {
      "metadata": {
        "_uuid": "c48941829b0cfa1e45dfc37a18cae638c7dfc953"
      },
      "cell_type": "markdown",
      "source": "We can fix this by \"escaping\" the single quote with a backslash. "
    },
    {
      "metadata": {
        "trusted": false,
        "_uuid": "12dee9018962f5fdb93cb381cb5beebf18440d2c",
        "collapsed": true
      },
      "cell_type": "code",
      "source": "'Pluto\\'s a planet!'",
      "execution_count": null,
      "outputs": []
    },
    {
      "metadata": {
        "_uuid": "6710613ba3b21a45c726590e4ae33edcb89653a6"
      },
      "cell_type": "markdown",
      "source": "The table below summarizes some important uses of the backslash character.\n\n| What you type... | What you get | example               | `print(example)`             |\n|--------------|----------------|--------------------------------------------------------|\n| `\\'`         | `'`            | `'What\\'s up?'`         | `What's up?`                 |  \n| `\\\"`         | `\"`            | `\"That's \\\"cool\\\"\"`     | `That's \"cool\"`              |  \n| `\\\\`         | `\\`            |  `\"Look, a mountain: /\\\\\"` |  `Look, a mountain: /\\`  |\n| `\\n`        |   <br/>      |   `\"1\\n2 3\"`                       |   `1`<br/>`2 3`              |"
    },
    {
      "metadata": {
        "_uuid": "c1572bf5081d6b4ed1644475e42df3a11309e4ec"
      },
      "cell_type": "markdown",
      "source": "The last sequence, `\\n`, represents the *newline character*. It causes Python to start a new line."
    },
    {
      "metadata": {
        "trusted": false,
        "_uuid": "8b12b32cb98b053660345b5323b0e95112670391",
        "collapsed": true
      },
      "cell_type": "code",
      "source": "hello = \"hello\\nworld\"\nprint(hello)",
      "execution_count": null,
      "outputs": []
    },
    {
      "metadata": {
        "_uuid": "b9804e579fc0cc3b1ba8adb31334f532c0a28a85"
      },
      "cell_type": "markdown",
      "source": "In addition, Python's triple quote syntax for strings lets us include newlines literally (i.e. by just hitting 'Enter' on our keyboard, rather than using the special '\\n' sequence). We've already seen this in the docstrings we use to document our functions, but we can use them anywhere we want to define a string."
    },
    {
      "metadata": {
        "trusted": false,
        "_uuid": "57bbd4c08b01d02be4764f91a6521334a9101964",
        "collapsed": true
      },
      "cell_type": "code",
      "source": "triplequoted_hello = \"\"\"hello\nworld\"\"\"\nprint(triplequoted_hello)\ntriplequoted_hello == hello",
      "execution_count": null,
      "outputs": []
    },
    {
      "metadata": {
        "_uuid": "38510966e8690101a2479769d267798ef36521ed"
      },
      "cell_type": "markdown",
      "source": "The `print()` function automatically adds a newline character unless we specify a value for the keyword argument `end` other than the default value of `'\\n'`:"
    },
    {
      "metadata": {
        "trusted": false,
        "_uuid": "539e70575470c9ca5295645e881108d13da173e9",
        "collapsed": true
      },
      "cell_type": "code",
      "source": "print(\"hello\")\nprint(\"world\")\nprint(\"hello\", end='')\nprint(\"pluto\", end='')",
      "execution_count": null,
      "outputs": []
    },
    {
      "metadata": {
        "_cell_guid": "0429bf54-044b-43fa-85cc-3641d6106b79",
        "_uuid": "c5c0f4ccaddd4362943ec18c06d7ddc3b161f03a",
        "collapsed": true
      },
      "cell_type": "markdown",
      "source": "## Strings are sequences\n\nStrings can be thought of as sequences of characters. Almost everything we've seen that we can do to a list, we can also do to a string."
    },
    {
      "metadata": {
        "trusted": false,
        "_uuid": "82f8dfefe6133a80e3a3ce2038ab5d522a4224c0",
        "collapsed": true
      },
      "cell_type": "code",
      "source": "# Indexing\nplanet = 'Pluto'\nplanet[0]",
      "execution_count": null,
      "outputs": []
    },
    {
      "metadata": {
        "trusted": false,
        "_uuid": "a17fe8873e2ba023481c9d8e21f460824614a277",
        "collapsed": true
      },
      "cell_type": "code",
      "source": "# Slicing\nplanet[-3:]",
      "execution_count": null,
      "outputs": []
    },
    {
      "metadata": {
        "trusted": false,
        "_uuid": "1f24877838d4051333d37a87b7b78bc077a6450e",
        "collapsed": true
      },
      "cell_type": "code",
      "source": "# How long is this string?\nlen(planet)",
      "execution_count": null,
      "outputs": []
    },
    {
      "metadata": {
        "trusted": false,
        "_uuid": "abcd24f4ab113e8fe0fe86e03c85b340160187e4",
        "collapsed": true
      },
      "cell_type": "code",
      "source": "# Yes, we can even loop over them\n[char+'! ' for char in planet]",
      "execution_count": null,
      "outputs": []
    },
    {
      "metadata": {
        "_uuid": "935db43ab2d1ce1538d8b92eaf72ef0c949ccb08"
      },
      "cell_type": "markdown",
      "source": "But a major way in which they differ from lists is that they are *immutable*. We can't modify them."
    },
    {
      "metadata": {
        "trusted": false,
        "_uuid": "c16c99e7c956c6514bc4949426b7d669b5a33f94",
        "collapsed": true
      },
      "cell_type": "code",
      "source": "planet[0] = 'B'\n# planet.append doesn't work either",
      "execution_count": null,
      "outputs": []
    },
    {
      "metadata": {
        "_cell_guid": "6c4506a3-98ac-44f3-b2cd-2e33591c5674",
        "_uuid": "afafd93b3947deec5ce724950b9ea168606d0cad"
      },
      "cell_type": "markdown",
      "source": "## String methods\n\nLike `list`, the type `str` has lots of very useful methods. I'll show just a few examples here."
    },
    {
      "metadata": {
        "_cell_guid": "fe12ea74-5a4b-4b49-aa12-26604b8907da",
        "_uuid": "13e1efd3e5be7f4342461594f2f7bc79b75e069d",
        "trusted": false,
        "collapsed": true
      },
      "cell_type": "code",
      "source": "# ALL CAPS\nclaim = \"Pluto is a planet!\"\nclaim.upper()",
      "execution_count": null,
      "outputs": []
    },
    {
      "metadata": {
        "trusted": false,
        "_uuid": "d8360ccdac2359ffb6935ae30912287e79e23e8f",
        "collapsed": true
      },
      "cell_type": "code",
      "source": "# all lowercase\nclaim.lower()",
      "execution_count": null,
      "outputs": []
    },
    {
      "metadata": {
        "trusted": false,
        "_uuid": "bb6bab418b8806019fd8a4fc4465e9c7a0b23ff9",
        "collapsed": true
      },
      "cell_type": "code",
      "source": "# Searching for the first index of a substring\nclaim.index('plan')",
      "execution_count": null,
      "outputs": []
    },
    {
      "metadata": {
        "trusted": false,
        "_uuid": "45cf20b42c0f72fb81983c977c0b72a3f9a78906",
        "collapsed": true
      },
      "cell_type": "code",
      "source": "claim.startswith(planet)",
      "execution_count": null,
      "outputs": []
    },
    {
      "metadata": {
        "trusted": false,
        "_uuid": "e267fb1f1c0167ca5c9dacadf927658e2fc3e84d",
        "collapsed": true
      },
      "cell_type": "code",
      "source": "claim.endswith('dwarf planet')",
      "execution_count": null,
      "outputs": []
    },
    {
      "metadata": {
        "_uuid": "9e27d5221a329053fdea32c28e300437b5a891ef"
      },
      "cell_type": "markdown",
      "source": "### Going between strings and lists: `.split()` and `.join()`\n\n`str.split()` turns a string into a list of smaller strings, breaking on whitespace by default. This is super useful for taking you from one big string to a list of words."
    },
    {
      "metadata": {
        "trusted": false,
        "_uuid": "c25339e6148768f13da8507889aa0775b9cf3a62",
        "collapsed": true
      },
      "cell_type": "code",
      "source": "words = claim.split()\nwords",
      "execution_count": null,
      "outputs": []
    },
    {
      "metadata": {
        "_uuid": "c6894a117945c20ab9c287d0d1ee9eac70d89465"
      },
      "cell_type": "markdown",
      "source": "Occasionally you'll want to split on something other than whitespace:"
    },
    {
      "metadata": {
        "trusted": false,
        "collapsed": true,
        "_uuid": "3383f203c467c28db55ed160ad04ef8fab1be844"
      },
      "cell_type": "code",
      "source": "datestr = '1956-01-31'\nyear, month, day = datestr.split('-')",
      "execution_count": null,
      "outputs": []
    },
    {
      "metadata": {
        "_uuid": "1ec4ef20b2de62af20d4ea6d485f8616fd0f597c"
      },
      "cell_type": "markdown",
      "source": "`str.join()` takes us in the other direction, sewing a list of strings up into one long string, using the string it was called on as a separator."
    },
    {
      "metadata": {
        "trusted": false,
        "_uuid": "bbbd56517498fd7796c359684b0668e40dbabb0a",
        "collapsed": true
      },
      "cell_type": "code",
      "source": "'/'.join([month, day, year])",
      "execution_count": null,
      "outputs": []
    },
    {
      "metadata": {
        "trusted": false,
        "_uuid": "f0062be1e2ba1dce6532b45bb5aa261c5845ea99",
        "collapsed": true
      },
      "cell_type": "code",
      "source": "# Yes, we can put unicode characters right in our string literals :)\n' 👏 '.join([word.upper() for word in words])",
      "execution_count": null,
      "outputs": []
    },
    {
      "metadata": {
        "_uuid": "7eebf7c9643feb4c7365f2e508922b80874b0dbf"
      },
      "cell_type": "markdown",
      "source": "### Building strings with `.format()`\n\nPython lets us concatenate strings with the `+` operator."
    },
    {
      "metadata": {
        "trusted": false,
        "_uuid": "7a0084ef47c9e2f71bfa87395a7bdc172c4007b1",
        "collapsed": true
      },
      "cell_type": "code",
      "source": "planet + ', we miss you.'",
      "execution_count": null,
      "outputs": []
    },
    {
      "metadata": {
        "_uuid": "c9fb083823a17ddd7312455e720325cfbfb225e4"
      },
      "cell_type": "markdown",
      "source": "If we want to throw in any non-string objects, we have to be careful to call `str()` on them first"
    },
    {
      "metadata": {
        "trusted": false,
        "_uuid": "81bf567478294c214a7b5fe6e9e8f600ec118510",
        "collapsed": true
      },
      "cell_type": "code",
      "source": "position = 9\nplanet + \", you'll always be the \" + position + \"th planet to me.\"",
      "execution_count": null,
      "outputs": []
    },
    {
      "metadata": {
        "trusted": false,
        "_uuid": "cee716cc9c65d3d68254d330fb41c2a3a9ab0990",
        "collapsed": true
      },
      "cell_type": "code",
      "source": "planet + \", you'll always be the \" + str(position) + \"th planet to me.\"",
      "execution_count": null,
      "outputs": []
    },
    {
      "metadata": {
        "_uuid": "1108e7a894f29ad7ef9ef40c6c28e713e7e825cf"
      },
      "cell_type": "markdown",
      "source": "This is getting hard to read and annoying to type. `str.format()` to the rescue."
    },
    {
      "metadata": {
        "trusted": false,
        "_uuid": "3c850ee7fa7700b367d045e6a37e2e964995e480",
        "collapsed": true
      },
      "cell_type": "code",
      "source": "\"{}, you'll always be the {}th planet to me.\".format(planet, position)",
      "execution_count": null,
      "outputs": []
    },
    {
      "metadata": {
        "_uuid": "85121fdbe217206470ad4159912385d4b072995e"
      },
      "cell_type": "markdown",
      "source": "So much cleaner! We call `.format()` on a \"format string\", where the Python values we want to insert are represented with `{}` placeholders.\n\nNotice how we didn't even have to call `str()` to convert `position` from an int. `format()` takes care of that for us.\n\nIf that was all that `format()` did, it would still be incredibly useful. But as it turns out, it can do a *lot* more. Here's just a taste:"
    },
    {
      "metadata": {
        "trusted": false,
        "_uuid": "c5fe4c752cfba5413204a12bdb9791fc629d6627",
        "collapsed": true
      },
      "cell_type": "code",
      "source": "pluto_mass = 1.303 * 10**22\nearth_mass = 5.9722 * 10**24\npopulation = 52910390\n#         2 decimal points   3 decimal points, format as percent     separate with commas\n\"{} weighs about {:.2} kilograms ({:.3%} of Earth's mass). It is home to {:,} Plutonians.\".format(\n    planet, pluto_mass, pluto_mass / earth_mass, population,\n)",
      "execution_count": null,
      "outputs": []
    },
    {
      "metadata": {
        "trusted": false,
        "_uuid": "ccf42bfb54c41d934c35177c8f5bd6c7a9ae706f",
        "collapsed": true
      },
      "cell_type": "code",
      "source": "# Referring to format() arguments by index, starting from 0\ns = \"\"\"Pluto's a {0}.\nNo, it's a {1}.\n{0}!\n{1}!\"\"\".format('planet', 'dwarf planet')\nprint(s)",
      "execution_count": null,
      "outputs": []
    },
    {
      "metadata": {
        "_uuid": "e2afadfb6f2921e76eafba6fcd5c009ed10cde6a"
      },
      "cell_type": "markdown",
      "source": "We could probably do a whole 7-day Challenge just on `str.format`, so I'll stop here, and point you to [pyformat.info](https://pyformat.info/) and [the official docs](https://docs.python.org/3/library/string.html#formatstrings) for further reading."
    },
    {
      "metadata": {
        "_uuid": "a56ceacabfa6c376f726e2f510943c8284cef25c"
      },
      "cell_type": "markdown",
      "source": "# Dictionaries\n\nDictionaries are a built-in Python data structure for mapping keys to values."
    },
    {
      "metadata": {
        "trusted": false,
        "collapsed": true,
        "_uuid": "8b7ffb34aeb0341330dcf0f4edc8597581b5b346"
      },
      "cell_type": "code",
      "source": "numbers = {'one':1, 'two':2, 'three':3}",
      "execution_count": null,
      "outputs": []
    },
    {
      "metadata": {
        "_uuid": "83c4393427d4925add9ea9972163a49623e2d921"
      },
      "cell_type": "markdown",
      "source": "In this case `'one'`, `'two'`, and `'three'` are the **keys**, and 1, 2 and 3 are their corresponding values.\n\nValues are accessed via square bracket syntax similar to indexing into lists and strings."
    },
    {
      "metadata": {
        "trusted": false,
        "_uuid": "c97db6e2ea13eb05cf1fa02f874a86330d704400",
        "collapsed": true
      },
      "cell_type": "code",
      "source": "numbers['one']",
      "execution_count": null,
      "outputs": []
    },
    {
      "metadata": {
        "_uuid": "831ad0f6cd3390336146e1a70c40177b9ca0485e"
      },
      "cell_type": "markdown",
      "source": "We can use the same syntax to add another key, value pair"
    },
    {
      "metadata": {
        "trusted": false,
        "_uuid": "4a2d09f6ec8e0280a4ab3dce1a1e2f9c3c880aad",
        "collapsed": true
      },
      "cell_type": "code",
      "source": "numbers['eleven'] = 11\nnumbers",
      "execution_count": null,
      "outputs": []
    },
    {
      "metadata": {
        "_uuid": "bb9b777c818ecd06b9357ed29c55377ae2a07364"
      },
      "cell_type": "markdown",
      "source": "Or to change the value associated with an existing key"
    },
    {
      "metadata": {
        "trusted": false,
        "_uuid": "1cb1b242b5707c351ffb4d8a3843d1fa0559c1a3",
        "collapsed": true
      },
      "cell_type": "code",
      "source": "numbers['one'] = 'Pluto'\nnumbers",
      "execution_count": null,
      "outputs": []
    },
    {
      "metadata": {
        "_uuid": "789f1003b8eb23a31c4d3ad3f8075a2710dd392a"
      },
      "cell_type": "markdown",
      "source": "Python has *dictionary comprehensions* with a syntax similar to the list comprehensions we saw yesterday."
    },
    {
      "metadata": {
        "trusted": false,
        "_uuid": "f332ee06d0b30a8597420be0dd78b346168772ec",
        "collapsed": true
      },
      "cell_type": "code",
      "source": "planets = ['Mercury', 'Venus', 'Earth', 'Mars', 'Jupiter', 'Saturn', 'Uranus', 'Neptune']\nplanet_to_initial = {planet: planet[0] for planet in planets}\nplanet_to_initial",
      "execution_count": null,
      "outputs": []
    },
    {
      "metadata": {
        "_uuid": "3a3d91c2e7ae2ce89deecf3cc6241143adfbcf3f"
      },
      "cell_type": "markdown",
      "source": "The `in` operator tells us whether something is a key in the dictionary"
    },
    {
      "metadata": {
        "trusted": false,
        "_uuid": "e55072bccdc78d9eb462baf8668222252b83b1e0",
        "collapsed": true
      },
      "cell_type": "code",
      "source": "'Saturn' in planet_to_initial",
      "execution_count": null,
      "outputs": []
    },
    {
      "metadata": {
        "trusted": false,
        "_uuid": "5ffa3af80d6ff43fd50ae7f61b9117ca0de0f9ba",
        "collapsed": true
      },
      "cell_type": "code",
      "source": "'Betelgeuse' in planet_to_initial",
      "execution_count": null,
      "outputs": []
    },
    {
      "metadata": {
        "_uuid": "d6f9d152b77765959ccc752b725b3643c348e333"
      },
      "cell_type": "markdown",
      "source": "A for loop over a dictionary will loop over its keys"
    },
    {
      "metadata": {
        "trusted": false,
        "_uuid": "98cbfdfd5e356ce393c1a6e87d5956440cbd68de",
        "collapsed": true
      },
      "cell_type": "code",
      "source": "for k in numbers:\n    print(\"{} = {}\".format(k, numbers[k]))",
      "execution_count": null,
      "outputs": []
    },
    {
      "metadata": {
        "_uuid": "dcb09aeba5eed983471759057cc0d8c9130c7996"
      },
      "cell_type": "markdown",
      "source": "We can access a collection of all the keys or all the values with `dict.keys()` and `dict.values()`, respectively."
    },
    {
      "metadata": {
        "trusted": false,
        "_uuid": "8398645e8a0922c1a9419d3b43b535530ee147e9",
        "collapsed": true
      },
      "cell_type": "code",
      "source": "# Get all the initials, sort them alphabetically, and put them in a space-separated string.\n' '.join(sorted(planet_to_initial.values()))",
      "execution_count": null,
      "outputs": []
    },
    {
      "metadata": {
        "_uuid": "60e8c5ac063dc0578530d57e891579b1903e2511"
      },
      "cell_type": "markdown",
      "source": "The very useful `dict.items()` method lets us iterate over the keys and values of a dictionary simultaneously. (In Python jargon, an **item** refers to a key, value pair)"
    },
    {
      "metadata": {
        "trusted": false,
        "_uuid": "cd1b40874bccaa6bf46c3d9bdff37e67bac916ce",
        "collapsed": true
      },
      "cell_type": "code",
      "source": "for planet, initial in planet_to_initial.items():\n    print(\"{} begins with \\\"{}\\\"\".format(planet.rjust(10), initial))",
      "execution_count": null,
      "outputs": []
    },
    {
      "metadata": {
        "_uuid": "7698fa7eb0d66d1d56cf781de32924bbc29d104a"
      },
      "cell_type": "markdown",
      "source": "To read a full inventory of dictionaries' methods, click the \"output\" button below to read the full help page, or check out the [official online documentation](https://docs.python.org/3/library/stdtypes.html#dict)."
    },
    {
      "metadata": {
        "_kg_hide-output": true,
        "trusted": false,
        "collapsed": true,
        "_uuid": "9e6b3f6c9e8c8c8079bacae08e6e77cc662e4b5f"
      },
      "cell_type": "code",
      "source": "help(dict)",
      "execution_count": null,
      "outputs": []
    },
    {
      "metadata": {
        "_uuid": "04833a2164db408c653f93170904d9ebde6874d4"
      },
      "cell_type": "markdown",
      "source": "# Your turn\n\nHead over to [the Exercises notebook](https://www.kaggle.com/kernels/fork/962743) to get some hands-on practice working with string methods and dictionaries."
    }
  ],
  "metadata": {
    "anaconda-cloud": {},
    "kernelspec": {
      "display_name": "Python 3",
      "language": "python",
      "name": "python3"
    },
    "language_info": {
      "name": "python",
      "version": "3.6.5",
      "mimetype": "text/x-python",
      "codemirror_mode": {
        "name": "ipython",
        "version": 3
      },
      "pygments_lexer": "ipython3",
      "nbconvert_exporter": "python",
      "file_extension": ".py"
    }
  },
  "nbformat": 4,
  "nbformat_minor": 1
}