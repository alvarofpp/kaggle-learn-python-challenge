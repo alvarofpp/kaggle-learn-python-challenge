{
  "cells": [
    {
      "metadata": {
        "_uuid": "a96f874a1c5b22b4069e3cc099b6b02dae8911b4"
      },
      "cell_type": "markdown",
      "source": "Welcome to the exercises for day 3 (these accompany the day 3 tutorial notebook on booleans and conditionals, available [here](https://www.kaggle.com/colinmorris/learn-python-challenge-day-3))\n\nAs always **be sure to run the setup code below** before working on the questions (and if you leave this notebook and come back later, don't forget to run the setup code again)."
    },
    {
      "metadata": {
        "_cell_guid": "bc0bc872-20c1-4f39-891c-e1ea6eeebf3a",
        "_uuid": "3a43324855ed8243dfe5181008325402bfadf2b4",
        "trusted": true
      },
      "cell_type": "code",
      "source": "# SETUP. You don't need to worry for now about what this code does or how it works. If you're ever curious about the \n# code behind these exercises, it's available under an open source license here: https://github.com/Kaggle/learntools/\nimport sys; sys.path.insert(0, '../input/learntools/pseudo_learntools')\nfrom learntools.python import binder; binder.bind(globals())\nfrom learntools.python.ex3 import *\nprint('Setup complete.')",
      "execution_count": 39,
      "outputs": [
        {
          "output_type": "stream",
          "text": "WARNING:root:Ignoring repeated attempt to bind to globals\n",
          "name": "stderr"
        },
        {
          "output_type": "stream",
          "text": "Setup complete.\n",
          "name": "stdout"
        }
      ]
    },
    {
      "metadata": {
        "_cell_guid": "fb04726c-7f68-4527-a4ff-6a0f1de0f31c",
        "_uuid": "67f747ce4d929a0713af0d02ee23bd7f03fa7be9"
      },
      "cell_type": "markdown",
      "source": "# Exercises\n\n\n"
    },
    {
      "metadata": {
        "_uuid": "4530d7de97f3f1b9ffed9e5da54dac743bbf4808"
      },
      "cell_type": "markdown",
      "source": "## 1.\n\nMany programming languages have [sign](https://en.wikipedia.org/wiki/Sign_function) available as a built-in function. Python doesn't, but we can define our own!\n\nIn the cell below, define a function called `sign` which takes a numerical argument and returns -1 if it's negative, 1 if it's positive, and 0 if it's 0."
    },
    {
      "metadata": {
        "trusted": true,
        "_uuid": "21713b3af7b5145bd07b65ba564dd7f03cbc6d06"
      },
      "cell_type": "code",
      "source": "# Your code goes here. Define a function called 'sign'\ndef sign(num):\n    if num < 0:\n        return -1\n    elif num == 0:\n        return 0\n    else:\n        return 1;\nq1.check()",
      "execution_count": 40,
      "outputs": [
        {
          "output_type": "display_data",
          "data": {
            "text/plain": "Correct",
            "text/markdown": "<span style=\"color:#33cc33\">Correct</span>"
          },
          "metadata": {}
        }
      ]
    },
    {
      "metadata": {
        "trusted": true,
        "collapsed": true,
        "_uuid": "cd0ab09c6c4daa6ad815c3435e9bc28564b880f7"
      },
      "cell_type": "code",
      "source": "#q1.solution()",
      "execution_count": null,
      "outputs": []
    },
    {
      "metadata": {
        "_uuid": "6c7d1cc463dc2972f5eba0b7155a73634a535b22"
      },
      "cell_type": "markdown",
      "source": "## 2.\n\nWe've decided to add some simple logging to our `to_smash` function from yesterday's exercise."
    },
    {
      "metadata": {
        "trusted": true,
        "_uuid": "7df0daf8381c37d07180e5821b384344675d1c50"
      },
      "cell_type": "code",
      "source": "def to_smash(total_candies):\n    \"\"\"Return the number of leftover candies that must be smashed after distributing\n    the given number of candies evenly between 3 friends.\n    \n    >>> to_smash(91)\n    1\n    \"\"\"\n    print(\"Splitting\", total_candies, \"candies\")\n    return total_candies % 3\n\nto_smash(91)",
      "execution_count": 41,
      "outputs": [
        {
          "output_type": "stream",
          "text": "Splitting 91 candies\n",
          "name": "stdout"
        },
        {
          "output_type": "execute_result",
          "execution_count": 41,
          "data": {
            "text/plain": "1"
          },
          "metadata": {}
        }
      ]
    },
    {
      "metadata": {
        "_uuid": "77630e215022034316d5554297dc6ef3ffeb249f"
      },
      "cell_type": "markdown",
      "source": "But wait, what happens if we call it with `total_candies = 1`?"
    },
    {
      "metadata": {
        "trusted": true,
        "_uuid": "91d95593f27f619d63198d00994d98f587283967"
      },
      "cell_type": "code",
      "source": "to_smash(1)",
      "execution_count": 42,
      "outputs": [
        {
          "output_type": "stream",
          "text": "Splitting 1 candies\n",
          "name": "stdout"
        },
        {
          "output_type": "execute_result",
          "execution_count": 42,
          "data": {
            "text/plain": "1"
          },
          "metadata": {}
        }
      ]
    },
    {
      "metadata": {
        "_uuid": "f923bb5883eb9f8bec2c30e6c34024b0b3c084d5"
      },
      "cell_type": "markdown",
      "source": "How embarrassing!\n\nModify the definition in the cell below to correct the grammar of our print statement. (If there's only one candy, we should use the singular \"candy\" instead of the plural \"candies\")\n\n**Bonus**: <span title=\"A bit spicy\" style=\"color: darkgreen \">🌶️</span> Can you fix the function without increasing the number of lines of code?"
    },
    {
      "metadata": {
        "trusted": true,
        "_uuid": "b326c8d017b7d40172c8cbd8431b4473cc24a8fc"
      },
      "cell_type": "code",
      "source": "def to_smash(total_candies):\n    \"\"\"Return the number of leftover candies that must be smashed after distributing\n    the given number of candies evenly between 3 friends.\n    \n    >>> to_smash(91)\n    1\n    \"\"\"\n    print(\"Splitting\", total_candies, (\"candy\" if total_candies==1 else \"candies\"))\n    return total_candies % 3\n\nto_smash(91)\nto_smash(1)",
      "execution_count": 43,
      "outputs": [
        {
          "output_type": "stream",
          "text": "Splitting 91 candies\nSplitting 1 candy\n",
          "name": "stdout"
        },
        {
          "output_type": "execute_result",
          "execution_count": 43,
          "data": {
            "text/plain": "1"
          },
          "metadata": {}
        }
      ]
    },
    {
      "metadata": {
        "trusted": true,
        "collapsed": true,
        "_uuid": "c9a96f7eb1e0cff63238aa1f72c6d44c2bc44313"
      },
      "cell_type": "code",
      "source": "#q2.hint()",
      "execution_count": null,
      "outputs": []
    },
    {
      "metadata": {
        "trusted": true,
        "collapsed": true,
        "_uuid": "70b3609a1b89cc83de00c9a3924016a279d3ae13"
      },
      "cell_type": "code",
      "source": "#q2.solution()",
      "execution_count": null,
      "outputs": []
    },
    {
      "metadata": {
        "_uuid": "56e968629ca34724109d65c4f2a7eedf7e779b22"
      },
      "cell_type": "markdown",
      "source": "## 3. <span title=\"A bit spicy\" style=\"color: darkgreen \">🌶️</span>\n\nIn the main lesson we talked about deciding whether we're prepared for the weather. I said that I'm safe from today's weather if...\n- I have an umbrella...\n- or if the rain isn't too heavy and I have a hood...\n- otherwise, I'm still fine unless it's raining *and* it's a workday\n\nThe function below uses our first attempt at turning this logic into a Python expression. I claimed that there was a bug in that code. Can you find it?\n\nTo prove that `prepared_for_weather` is buggy, come up with a set of inputs where it returns the wrong answer."
    },
    {
      "metadata": {
        "_cell_guid": "30dc347b-c820-4cf8-bf4a-2d310e3efb35",
        "_uuid": "cb4589bb1552f33e578457a86cc014841807364f",
        "trusted": true
      },
      "cell_type": "code",
      "source": "def prepared_for_weather(have_umbrella, rain_level, have_hood, is_workday):\n    # Don't change this code. Our goal is just to find the bug, not fix it!\n    return (have_umbrella or rain_level < 5) and have_hood or not (rain_level > 0 and is_workday)\n\n# Change the values of these inputs so they represent a case where prepared_for_weather\n# returns the wrong answer.\nhave_umbrella = False\nrain_level = 0.0\nhave_hood = False\nis_workday = False\n\n# Check what the function returns given the current values of the variables above\nactual = prepared_for_weather(have_umbrella, rain_level, have_hood, is_workday)\nprint(actual)\n\nq3.check()",
      "execution_count": 44,
      "outputs": [
        {
          "output_type": "stream",
          "text": "True\n",
          "name": "stdout"
        },
        {
          "output_type": "display_data",
          "data": {
            "text/plain": "Correct: \n\nOne example of a failing test case is:\n\n```python\nhave_umbrella = False\nrain_level = 0.0\nhave_hood = False\nis_workday = False\n```\n\nClearly we're prepared for the weather in this case. It's not raining. Not only that, it's not a workday, so we don't even need to leave the house! But our function will return False on these inputs.\n\nThe key problem is that Python implictly parenthesizes the last part as:\n\n```python\n(not (rain_level > 0)) and is_workday\n```\n\nWhereas what we were trying to express would look more like:\n\n```python\nnot (rain_level > 0 and is_workday)\n```",
            "text/markdown": "<span style=\"color:#33cc33\">Correct:</span> \n\nOne example of a failing test case is:\n\n```python\nhave_umbrella = False\nrain_level = 0.0\nhave_hood = False\nis_workday = False\n```\n\nClearly we're prepared for the weather in this case. It's not raining. Not only that, it's not a workday, so we don't even need to leave the house! But our function will return False on these inputs.\n\nThe key problem is that Python implictly parenthesizes the last part as:\n\n```python\n(not (rain_level > 0)) and is_workday\n```\n\nWhereas what we were trying to express would look more like:\n\n```python\nnot (rain_level > 0 and is_workday)\n```\n"
          },
          "metadata": {}
        }
      ]
    },
    {
      "metadata": {
        "_cell_guid": "ed71b22d-e81e-4ccc-83e8-0658ebce4580",
        "_uuid": "374d3001b55e4e3f2645641ddd61e70817fb943d",
        "trusted": true
      },
      "cell_type": "code",
      "source": "#q3.hint()\n#q3.solution()",
      "execution_count": null,
      "outputs": []
    },
    {
      "metadata": {
        "_cell_guid": "efb7dff3-e69f-4569-856b-a9052dcb1a24",
        "_uuid": "b0fed3fb9730d2079a1c77a7dad14de9b7d42129"
      },
      "cell_type": "markdown",
      "source": "## 4.\n\nThe function `is_negative` below is implemented correctly - it returns True if the given number is negative and False otherwise.\n\nHowever, it's more verbose than it needs to be. We can actually reduce the number of lines of code in this function by *75%* while keeping the same behaviour. \n\nSee if you can come up with an equivalent body that uses just **one line** of code, and put it in the function `concise_is_negative`. (HINT: you don't even need Python's ternary syntax)"
    },
    {
      "metadata": {
        "_cell_guid": "0f83686b-132f-4faa-9f6c-d0e788c7e829",
        "_uuid": "a160b0a301c6ef13745fff22e15cec8a959cfd16",
        "trusted": true
      },
      "cell_type": "code",
      "source": "def is_negative(number):\n    if number < 0:\n        return True\n    else:\n        return False\n\ndef concise_is_negative(number):\n    return number < 0\n\nq4.check()",
      "execution_count": 45,
      "outputs": [
        {
          "output_type": "display_data",
          "data": {
            "text/plain": "Correct",
            "text/markdown": "<span style=\"color:#33cc33\">Correct</span>"
          },
          "metadata": {}
        }
      ]
    },
    {
      "metadata": {
        "_cell_guid": "fdb3be14-30f7-493f-99da-33e36ad5fb7f",
        "_uuid": "066fabb3474f89218e1b188963a6fe226b477cd7",
        "trusted": true
      },
      "cell_type": "code",
      "source": "#q4.hint()\n#q4.solution()",
      "execution_count": null,
      "outputs": []
    },
    {
      "metadata": {
        "_cell_guid": "2f1a1ba7-c560-476e-aea8-cc1c9fb9dbe8",
        "_uuid": "372b160a41585d1297048488347bd5350a6250c9"
      },
      "cell_type": "markdown",
      "source": "## 5.\n\nThe boolean variables `ketchup`, `mustard` and `onion` represent whether a customer wants a particular topping on their hot dog. We want to implement a number of boolean functions that correspond to some yes-or-no questions about the customer's order. For example:"
    },
    {
      "metadata": {
        "_cell_guid": "bdddb297-eb61-4d83-b49d-de3cc0fec9b3",
        "_uuid": "0d5f9904c03e2bb5f0a843ec1c715909dd078a6b",
        "trusted": true
      },
      "cell_type": "code",
      "source": "def onionless(ketchup, mustard, onion):\n    \"\"\"Return whether the customer doesn't want onions.\n    \"\"\"\n    return not onion",
      "execution_count": 46,
      "outputs": []
    },
    {
      "metadata": {
        "_cell_guid": "95ad8530-cb19-4a1d-adfa-ecc383467818",
        "_uuid": "bedb8dd9ecca30e69ad76d280e140e9a0b4cfb8b"
      },
      "cell_type": "markdown",
      "source": "For each of the remaining functions, fill in the body to match the English description in the docstring. "
    },
    {
      "metadata": {
        "_cell_guid": "d1f47be9-d476-454d-8ba2-fe5bde676ed3",
        "_uuid": "51a6f7a13bafac75670fd5bab56e2af0834996c8",
        "trusted": true
      },
      "cell_type": "code",
      "source": "def wants_all_toppings(ketchup, mustard, onion):\n    \"\"\"Return whether the customer wants \"the works\" (all 3 toppings)\n    \"\"\"\n    return (ketchup and mustard and onion)\n\nq5.a.check()",
      "execution_count": 47,
      "outputs": [
        {
          "output_type": "display_data",
          "data": {
            "text/plain": "Correct",
            "text/markdown": "<span style=\"color:#33cc33\">Correct</span>"
          },
          "metadata": {}
        }
      ]
    },
    {
      "metadata": {
        "trusted": true,
        "_uuid": "e9635fcbff2f558f3af06c0010dd59c26704607b"
      },
      "cell_type": "code",
      "source": "#q5.a.hint()\n#q5.a.solution()",
      "execution_count": null,
      "outputs": []
    },
    {
      "metadata": {
        "_cell_guid": "edb075f3-61ec-4c45-8f50-d5f94809b4a8",
        "_uuid": "13a2171d08a1ed65251802271dcb5421f3b7c833",
        "trusted": true
      },
      "cell_type": "code",
      "source": "def wants_plain_hotdog(ketchup, mustard, onion):\n    \"\"\"Return whether the customer wants a plain hot dog with no toppings.\n    \"\"\"\n    return not (ketchup or mustard or onion)\n\nq5.b.check()",
      "execution_count": 48,
      "outputs": [
        {
          "output_type": "display_data",
          "data": {
            "text/plain": "Correct: \n\nOne solution looks like:\n```python\nreturn not ketchup and not mustard and not onion\n```\n\nWe can also [\"factor out\" the nots](https://en.wikipedia.org/wiki/De_Morgan%27s_laws) to get:\n\n```python\nreturn not (ketchup or mustard or onion)\n```",
            "text/markdown": "<span style=\"color:#33cc33\">Correct:</span> \n\nOne solution looks like:\n```python\nreturn not ketchup and not mustard and not onion\n```\n\nWe can also [\"factor out\" the nots](https://en.wikipedia.org/wiki/De_Morgan%27s_laws) to get:\n\n```python\nreturn not (ketchup or mustard or onion)\n```"
          },
          "metadata": {}
        }
      ]
    },
    {
      "metadata": {
        "trusted": true,
        "_uuid": "0a97d64d7030ebca06aebb68ad48be1bedc299c8"
      },
      "cell_type": "code",
      "source": "#q5.b.hint()\n#q5.b.solution()",
      "execution_count": null,
      "outputs": []
    },
    {
      "metadata": {
        "_cell_guid": "1cd23cdb-d656-4b55-92f8-b342f285d796",
        "_uuid": "f0bae57d7b158f9cbec73f1954d1993a02fc68fb",
        "trusted": true
      },
      "cell_type": "code",
      "source": "def exactly_one_sauce(ketchup, mustard, onion):\n    \"\"\"Return whether the customer wants either ketchup or mustard, but not both.\n    (You may be familiar with this operation under the name \"exclusive or\")\n    \"\"\"\n    return (ketchup and not mustard) or (mustard and not ketchup)\n\nq5.c.check()",
      "execution_count": 49,
      "outputs": [
        {
          "output_type": "display_data",
          "data": {
            "text/plain": "Correct",
            "text/markdown": "<span style=\"color:#33cc33\">Correct</span>"
          },
          "metadata": {}
        }
      ]
    },
    {
      "metadata": {
        "trusted": true,
        "_uuid": "7d7f79b2cfd4a98e671c25ede7ec8402410ce6e4"
      },
      "cell_type": "code",
      "source": "#q5.c.hint()\n#q5.c.solution()",
      "execution_count": null,
      "outputs": []
    },
    {
      "metadata": {
        "_cell_guid": "bec383c3-90de-4038-b53e-34cd974b1a17",
        "_uuid": "2d3dbe30733bf5593a4a3a19574588a50da8b7c8"
      },
      "cell_type": "markdown",
      "source": "## 6. <span title=\"A bit spicy\" style=\"color: darkgreen \">🌶️</span>\n\nWe’ve seen that calling `bool()` on an integer returns `False` if it’s equal to 0 and `True` otherwise. What happens if we call `int()` on a bool? Try it out in the console or a new code cell.\n\nCan you take advantage of this to write a succinct function that corresponds to the English sentence \"does the customer want exactly one topping?\"?"
    },
    {
      "metadata": {
        "_cell_guid": "41472367-0095-48ed-953b-9d8a77d579b1",
        "_uuid": "8dd3ecea1d5d44eb847f963d310398c285ce1c31",
        "trusted": true
      },
      "cell_type": "code",
      "source": "def exactly_one_topping(ketchup, mustard, onion):\n    \"\"\"Return whether the customer wants exactly one of the three available toppings\n    on their hot dog.\n    \"\"\"\n    return (ketchup + mustard + onion) == 1\n\nq6.check()",
      "execution_count": 50,
      "outputs": [
        {
          "output_type": "display_data",
          "data": {
            "text/plain": "Correct: \n\nThis condition would be pretty complicated to express using just `and`, `or` and `not`, but using boolean-to-integer conversion gives us this short solution:\n```python\nreturn (int(ketchup) + int(mustard) + int(onion)) == 1\n```\n\nFun fact: we don't technically need to call `int` on the arguments. Just by doing addition with booleans, Python implicitly does the integer conversion. So we could also write...\n\n```python\nreturn (ketchup + mustard + onion) == 1\n```",
            "text/markdown": "<span style=\"color:#33cc33\">Correct:</span> \n\nThis condition would be pretty complicated to express using just `and`, `or` and `not`, but using boolean-to-integer conversion gives us this short solution:\n```python\nreturn (int(ketchup) + int(mustard) + int(onion)) == 1\n```\n\nFun fact: we don't technically need to call `int` on the arguments. Just by doing addition with booleans, Python implicitly does the integer conversion. So we could also write...\n\n```python\nreturn (ketchup + mustard + onion) == 1\n```"
          },
          "metadata": {}
        }
      ]
    },
    {
      "metadata": {
        "_cell_guid": "202a54bb-e0ae-48cc-b93f-fcfc56198ff1",
        "_uuid": "4a236006ae92f6ac81fbd79c37025af3cc3448ec",
        "trusted": true
      },
      "cell_type": "code",
      "source": "#q6.hint()\n#q6.solution()",
      "execution_count": null,
      "outputs": []
    },
    {
      "metadata": {
        "_cell_guid": "0d67a127-339f-497d-a079-81a0ed474c9d",
        "_uuid": "212c67201cebf9c173064d8adf88231a0496c808"
      },
      "cell_type": "markdown",
      "source": "## 7. <span title=\"A bit spicy\" style=\"color: darkgreen \">🌶️</span>\n\nIn this problem we'll be working with a simplified version of [blackjack](https://en.wikipedia.org/wiki/Blackjack) (aka twenty-one). In this version there is one player (who you'll control) and a dealer. Play proceeds as follows:\n\n- The player is dealt two face-up cards. The dealer is dealt one face-up card.\n- The player may ask to be dealt another card ('hit') as many times as they wish. If the sum of their cards exceeds 21, they lose the round immediately.\n- The dealer then deals additional cards to himself until either:\n    - the sum of the dealer's cards exceeds 21, in which case the player wins the round\n    - the sum of the dealer's cards is greater than or equal to 17. If the player's total is greater than the dealer's, the player wins. Otherwise, the dealer wins (even in case of a tie).\n    \nWhen calculating the sum of cards, Jack, Queen, and King count for 10. Aces can count as 1 or 11 (when referring to a player's \"total\" above, we mean the largest total that can be made without exceeding 21. So e.g. A+8 = 19, A+8+8 = 17)\n\nFor this problem, you'll write a function representing the player's decision-making strategy in this game. We've provided a very unintelligent implementation below:"
    },
    {
      "metadata": {
        "_cell_guid": "c8b2cb95-ed07-4435-9e19-d4b7e1595816",
        "_uuid": "a15f4d15d5807da3c1f32bd81c4a3cfef00ff610",
        "trusted": true,
        "collapsed": true
      },
      "cell_type": "code",
      "source": "def should_hit(player_total, dealer_total, player_aces):\n    \"\"\"Return True if the player should hit (request another card) given the current game\n    state, or False if the player should stay. player_aces is the number of aces the player has.\n    \"\"\"\n    return False",
      "execution_count": null,
      "outputs": []
    },
    {
      "metadata": {
        "_cell_guid": "b1076dfc-b9ad-4769-8c92-a6c4dae69d19",
        "_uuid": "8f2839f25d086af736a60e9eeb907d3b93b6e0e5",
        "collapsed": true
      },
      "cell_type": "markdown",
      "source": "This very conservative agent *always* sticks with the hand of two cards that they're dealt.\n\nWe'll be simulating games between your player agent and our own dealer agent by calling your function.\n\nTry running the function below to see an example of a simulated game:"
    },
    {
      "metadata": {
        "_cell_guid": "79c7e3d0-c299-4dcb-8224-4455121ee9b0",
        "_uuid": "d629ff2d2480ee46fbb7e2d37f6b5fab8052498a",
        "trusted": true,
        "collapsed": true
      },
      "cell_type": "code",
      "source": "q7.simulate_one_game()",
      "execution_count": null,
      "outputs": []
    },
    {
      "metadata": {
        "_uuid": "ea49029063a63e23e446695ed26abb65b88b7a8c"
      },
      "cell_type": "markdown",
      "source": "The real test of your agent's mettle is their average win rate over many games. Try calling the function below to simulate 1000 games of blackjack:"
    },
    {
      "metadata": {
        "trusted": true,
        "_uuid": "793475ac55fd4ba137b7bdfe5c8b987f12717f1f",
        "collapsed": true
      },
      "cell_type": "code",
      "source": "q7.simulate(n_games=1000)",
      "execution_count": null,
      "outputs": []
    },
    {
      "metadata": {
        "_uuid": "3b884358d33cad4fc0a705a036744c3a1405a118"
      },
      "cell_type": "markdown",
      "source": "Our dumb agent that completely ignores the game state still manages to win shockingly often!\n\nTry adding some more smarts to the `should_hit` function and see how it affects the results."
    },
    {
      "metadata": {
        "trusted": true,
        "_uuid": "0f4f4dcad001e6eb390fad0a95fe06ba3cd7d6af",
        "collapsed": true
      },
      "cell_type": "code",
      "source": "def should_hit(player_total, dealer_total, player_aces):\n    \"\"\"Return True if the player should hit (request another card) given the current game\n    state, or False if the player should stay. player_aces is the number of aces the player has.\n    \"\"\"\n    return False\n\nq7.simulate(n_games=1000)",
      "execution_count": null,
      "outputs": []
    },
    {
      "metadata": {
        "_uuid": "d39baaada4a85fbcee44963225cefeb3dec6de6c"
      },
      "cell_type": "markdown",
      "source": "How high can you get your win rate? Share your results on the [forums](https://www.kaggle.com/learn-forum). "
    }
  ],
  "metadata": {
    "kernelspec": {
      "display_name": "Python 3",
      "language": "python",
      "name": "python3"
    },
    "language_info": {
      "name": "python",
      "version": "3.6.6",
      "mimetype": "text/x-python",
      "codemirror_mode": {
        "name": "ipython",
        "version": 3
      },
      "pygments_lexer": "ipython3",
      "nbconvert_exporter": "python",
      "file_extension": ".py"
    }
  },
  "nbformat": 4,
  "nbformat_minor": 1
}