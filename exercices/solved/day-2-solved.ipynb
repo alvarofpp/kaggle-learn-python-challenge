{
  "cells": [
    {
      "metadata": {
        "_cell_guid": "63663389-61df-469a-a6b0-814497d3cf43",
        "_uuid": "480e18601eb6b7ec731baddaee66835f4d39b6e9"
      },
      "cell_type": "markdown",
      "source": "# Exercises (Day 2: Functions and Getting Help)\n\nWelcome to the coding exercises for day 2 of the Python Challenge - you can find the [tutorial notebook that accompanies these exercises here](https://www.kaggle.com/colinmorris/learn-python-challenge-day-2). As before, don't forget to run the setup code below before jumping into question 1."
    },
    {
      "metadata": {
        "_cell_guid": "eedc7c67-f2a0-4e85-b666-6ea84259387d",
        "_kg_hide-input": true,
        "_kg_hide-output": true,
        "_uuid": "0ec258e6661353ab5925088031753487e80a9241",
        "trusted": true
      },
      "cell_type": "code",
      "source": "# SETUP. You don't need to worry for now about what this code does or how it works. If you're ever curious about the \n# code behind these exercises, it's available under an open source license here: https://github.com/Kaggle/learntools/\nimport sys; sys.path.insert(0, '../input/learntools/pseudo_learntools')\nfrom learntools.python import binder; binder.bind(globals())\nfrom learntools.python.ex2 import *\nprint('Setup complete.')",
      "execution_count": 18,
      "outputs": [
        {
          "output_type": "stream",
          "text": "WARNING:root:Ignoring repeated attempt to bind to globals\n",
          "name": "stderr"
        },
        {
          "output_type": "stream",
          "text": "Setup complete.\n",
          "name": "stdout"
        }
      ]
    },
    {
      "metadata": {
        "_cell_guid": "5001fd88-9468-4093-80d0-c89ba57612e6",
        "_uuid": "276eaf43043acdace363100f1902d9884bcc0b03"
      },
      "cell_type": "markdown",
      "source": "## 1.\n\nComplete the body of the following function according to its docstring.\n\nHINT: Python has a builtin function `round`"
    },
    {
      "metadata": {
        "_cell_guid": "b1076dfc-b9ad-4769-8c92-a6c4dae69d19",
        "_uuid": "8f2839f25d086af736a60e9eeb907d3b93b6e0e5",
        "trusted": true
      },
      "cell_type": "code",
      "source": "def round_to_two_places(num):\n    \"\"\"Return the given number rounded to two decimal places. \n    \n    >>> round_to_two_places(3.14159)\n    3.14\n    \"\"\"\n    # Replace this body with your own code.\n    # (\"pass\" is a keyword that does literally nothing. We used it as a placeholder\n    # because after we begin a code block, Python requires at least one line of code)\n    return round(num, 2)\n\nq1.check()",
      "execution_count": 19,
      "outputs": [
        {
          "output_type": "display_data",
          "data": {
            "text/plain": "Correct",
            "text/markdown": "<span style=\"color:#33cc33\">Correct</span>"
          },
          "metadata": {}
        }
      ]
    },
    {
      "metadata": {
        "_cell_guid": "656de057-f9fc-4923-bf42-992e9a0063c6",
        "_uuid": "b7a87a4f2729aa8ad4081feb09de2a67cb8a4319",
        "trusted": true,
        "collapsed": true
      },
      "cell_type": "code",
      "source": "# Uncomment the following for a hint\n#q1.hint()\n# Or uncomment the following to peek at the solution\n#q1.solution()",
      "execution_count": null,
      "outputs": []
    },
    {
      "metadata": {
        "_cell_guid": "79c7e3d0-c299-4dcb-8224-4455121ee9b0",
        "_uuid": "d629ff2d2480ee46fbb7e2d37f6b5fab8052498a",
        "collapsed": true
      },
      "cell_type": "markdown",
      "source": "## 2.\nThe help for `round` says that `ndigits` (the second argument) may be negative.\nWhat do you think will happen when it is? Try out some examples in the console (at the bottom of the editor) or in a new code cell.\n\nCan you think of a case where this would be useful?"
    },
    {
      "metadata": {
        "_cell_guid": "9310ad87-d67a-4f73-8f34-15f883caacba",
        "_uuid": "c243eac28fad9edfaae951b4909feedf61df8a30",
        "trusted": true
      },
      "cell_type": "code",
      "source": "round(13.44446)\n#q2.solution()",
      "execution_count": 20,
      "outputs": [
        {
          "output_type": "execute_result",
          "execution_count": 20,
          "data": {
            "text/plain": "13"
          },
          "metadata": {}
        }
      ]
    },
    {
      "metadata": {
        "_uuid": "d989291bedc97333e68baa7025cb1b2ad729d2de"
      },
      "cell_type": "markdown",
      "source": "## 3.\n\nIn yesterday's exercise, I introduced candy-sharing friends Alice, Bob and Carol. As a reminder, they have some candies which they plan to split evenly among themselves. For the sake of their friendship, any candies left over would be smashed. For example, if they collectively bring home 91 candies, they'll take 30 each and smash 1.\n\nYesterday, you wrote some code to calculate how many candies they'd have to smash, assuming they collected a particular number.\n\nBelow is a simple function that will calculate the number of candies to smash for *any* number of total candies.\n\nModify it so that it optionally takes a second argument representing the number of friends the candies are being split between. If no second argument is provided, it should assume 3 friends, as before.\n\nIf you're feeling extra fastidious, update the docstring to reflect this new behaviour (but we won't be checking for this)."
    },
    {
      "metadata": {
        "trusted": true,
        "_uuid": "f9e648a6d9663b94d5a172ef9ef7b58bb07f9b57"
      },
      "cell_type": "code",
      "source": "def to_smash(total_candies, total_friends = 3):\n    \"\"\"Return the number of leftover candies that must be smashed after distributing\n    the given number of candies evenly between N friends (total_friends).\n    \n    >>> to_smash(91, 3)\n    1\n    \"\"\"\n    return total_candies % total_friends\n\nq3.check()",
      "execution_count": 21,
      "outputs": [
        {
          "output_type": "display_data",
          "data": {
            "text/plain": "Correct",
            "text/markdown": "<span style=\"color:#33cc33\">Correct</span>"
          },
          "metadata": {}
        }
      ]
    },
    {
      "metadata": {
        "trusted": true,
        "collapsed": true,
        "_uuid": "84995b346406b8caccd6877549d3068c973b918f"
      },
      "cell_type": "code",
      "source": "#q3.hint()",
      "execution_count": null,
      "outputs": []
    },
    {
      "metadata": {
        "trusted": true,
        "collapsed": true,
        "_uuid": "76822af710308b7ba751fb00aaabb41a71765d68"
      },
      "cell_type": "code",
      "source": "#q3.solution()",
      "execution_count": null,
      "outputs": []
    },
    {
      "metadata": {
        "_cell_guid": "98d77048-ab27-4cd0-b7f1-c0026a25dca2",
        "_uuid": "751c7e31b9d8f06fe571e37b1881a5bdbc7438bc"
      },
      "cell_type": "markdown",
      "source": "## 4.\n\nIt may not be fun, but reading and understanding error messages will be an important part of your Python career.\n\nEach code cell below contains some commented-out buggy code. For each cell...\n\n1. Read the code and predict what you think will happen when it's run.\n2. Then uncomment the code and run it to see what happens. (**Tip**: In the kernel editor, you can highlight several lines and press `ctrl`+`/` to toggle commenting.)\n3. Fix the code (so that it accomplishes its intended purpose without throwing an exception)\n\n<!-- TODO: should this be autochecked? Delta is probably pretty small. -->"
    },
    {
      "metadata": {
        "_cell_guid": "1540694d-85d7-4e83-b902-2cfed6ddc94a",
        "_uuid": "c70345164578f7bd16fc21299eb573ea3a364c66",
        "trusted": true
      },
      "cell_type": "code",
      "source": "round_to_two_places(9.9999)",
      "execution_count": 22,
      "outputs": [
        {
          "output_type": "execute_result",
          "execution_count": 22,
          "data": {
            "text/plain": "10.0"
          },
          "metadata": {}
        }
      ]
    },
    {
      "metadata": {
        "_cell_guid": "fab13452-9b34-4218-b3f9-5bb76352b393",
        "_uuid": "9429d22fc230e86ec59e57e9726e33af62f639d4",
        "trusted": true
      },
      "cell_type": "code",
      "source": "x = -10\ny = 5\n# Which of the two variables above has the smallest absolute value?\nsmallest_abs = min(abs(x),abs(y))\nsmallest_abs",
      "execution_count": 24,
      "outputs": [
        {
          "output_type": "execute_result",
          "execution_count": 24,
          "data": {
            "text/plain": "5"
          },
          "metadata": {}
        }
      ]
    },
    {
      "metadata": {
        "_cell_guid": "b9870c2f-60f0-4232-8bc9-7f0ce579d952",
        "_uuid": "2662f772b32a1200385544e9170b1ef26c893a87",
        "trusted": true
      },
      "cell_type": "code",
      "source": "def f(x):\n    y = abs(x)\n    return y\n\nprint(f(5))",
      "execution_count": 23,
      "outputs": [
        {
          "output_type": "stream",
          "text": "5\n",
          "name": "stdout"
        }
      ]
    },
    {
      "metadata": {
        "_uuid": "bff7abee6f37fa4a301b894ce1d0f667f3c0754b"
      },
      "cell_type": "markdown",
      "source": "## 5. <span title=\"A bit spicy\" style=\"color: darkgreen \">🌶️</span>\n\nFor this question, we'll be using two functions imported from Python's `time` module.\n\nThe [time](https://docs.python.org/3/library/time.html#time.time) function returns the number of seconds that have passed since the Epoch (aka [Unix time](https://en.wikipedia.org/wiki/Unix_time)). \n\n<!-- We've provided a function called `seconds_since_epoch` which returns the number of seconds that have passed since the Epoch (aka [Unix time](https://en.wikipedia.org/wiki/Unix_time)). -->\n\nTry it out below. Each time you run it, you should get a slightly larger number."
    },
    {
      "metadata": {
        "trusted": true,
        "_uuid": "02e5cf5bd0acd0cff98079d6d3230d7ee911aa05"
      },
      "cell_type": "code",
      "source": "# Importing the function 'time' from the module of the same name. \n# (We'll discuss imports in more depth later)\nfrom time import time\nt = time()\nprint(t, \"seconds since the Epoch\")",
      "execution_count": 26,
      "outputs": [
        {
          "output_type": "stream",
          "text": "1535553825.4249492 seconds since the Epoch\n",
          "name": "stdout"
        }
      ]
    },
    {
      "metadata": {
        "_uuid": "2738479846568a16e56468c7eeb2003e47d79674"
      },
      "cell_type": "markdown",
      "source": "We'll also be using a function called [sleep](https://docs.python.org/3/library/time.html#time.sleep), which makes us wait some number of seconds while it does nothing particular. (Sounds useful, right?)\n\nYou can see it in action by running the cell below:"
    },
    {
      "metadata": {
        "trusted": true,
        "_uuid": "7e741514991804a6cd71672fe2a5247b51f2fb6c"
      },
      "cell_type": "code",
      "source": "from time import sleep\nduration = 5\nprint(\"Getting sleepy. See you in\", duration, \"seconds\")\nsleep(duration)\nprint(\"I'm back. What did I miss?\")",
      "execution_count": 27,
      "outputs": [
        {
          "output_type": "stream",
          "text": "Getting sleepy. See you in 5 seconds\nI'm back. What did I miss?\n",
          "name": "stdout"
        }
      ]
    },
    {
      "metadata": {
        "_uuid": "bb88ec9a9a5c667d10abe2768efedf353bd23626"
      },
      "cell_type": "markdown",
      "source": "With the help of these functions, complete the function `time_call` below according to its docstring.\n\n<!-- (The sleep function will be useful for testing here since we have a pretty good idea of what something like `time_call(sleep, 1)` should return.) -->"
    },
    {
      "metadata": {
        "trusted": true,
        "collapsed": true,
        "_uuid": "833c472eeda150e4944a573b8f11da3bc45bf960"
      },
      "cell_type": "code",
      "source": "def time_call(fn, arg):\n    \"\"\"Return the amount of time the given function takes (in seconds) when called with the given argument.\n    \"\"\"\n    t = time()\n    fn(arg)\n    return time() - t",
      "execution_count": 28,
      "outputs": []
    },
    {
      "metadata": {
        "_uuid": "a50659e48161c3423461c9d4ebf989fc9ae65cfa"
      },
      "cell_type": "markdown",
      "source": "How can you verify that `time_call` is working correctly? (There's no `q5.check()` function for this question - testing your solution is part of your challenge.)"
    },
    {
      "metadata": {
        "trusted": true,
        "_uuid": "49c601fabad3cb680c5a050e82c9e181665f740f"
      },
      "cell_type": "code",
      "source": "time_call(sleep, 2)\n\n#q5.hint()",
      "execution_count": 30,
      "outputs": [
        {
          "output_type": "execute_result",
          "execution_count": 30,
          "data": {
            "text/plain": "2.002138376235962"
          },
          "metadata": {}
        }
      ]
    },
    {
      "metadata": {
        "trusted": true,
        "collapsed": true,
        "_uuid": "7a2de7ca3b4ea25639598f6069f044d1fe9f74a1"
      },
      "cell_type": "code",
      "source": "#q5.solution()",
      "execution_count": null,
      "outputs": []
    },
    {
      "metadata": {
        "_uuid": "733f0e05edac59c5653f75d42f54e021b2397fdc"
      },
      "cell_type": "markdown",
      "source": "## 6. <span title=\"A bit spicy\" style=\"color: darkgreen \">🌶️</span>\n\n*Note: this question depends on a working solution to the previous question.*\n\nComplete the function below according to its docstring."
    },
    {
      "metadata": {
        "trusted": true,
        "collapsed": true,
        "_uuid": "9851f2ee1e0940ba048e537dc831499df71713a2"
      },
      "cell_type": "code",
      "source": "def slowest_call(fn, arg1, arg2, arg3):\n    \"\"\"Return the amount of time taken by the slowest of the following function\n    calls: fn(arg1), fn(arg2), fn(arg3)\n    \"\"\"\n    t1 = time()\n    fn(arg1)\n    t2 = time()\n    fn(arg2)\n    t3 = time()\n    fn(arg3)\n    return max(t2-t1, t3-t2, time()-t3)",
      "execution_count": 36,
      "outputs": []
    },
    {
      "metadata": {
        "trusted": true,
        "_uuid": "c0e7296260a020ecb18084ff9482cb3763fa6248"
      },
      "cell_type": "code",
      "source": "slowest_call(sleep, 2, 3, 1)\n#q6.hint()",
      "execution_count": 37,
      "outputs": [
        {
          "output_type": "execute_result",
          "execution_count": 37,
          "data": {
            "text/plain": "3.003138780593872"
          },
          "metadata": {}
        }
      ]
    },
    {
      "metadata": {
        "trusted": true,
        "collapsed": true,
        "_uuid": "6a1bbae0a47883d5aa016c1382221a73ef5b0358"
      },
      "cell_type": "code",
      "source": "#q6.solution()",
      "execution_count": null,
      "outputs": []
    },
    {
      "metadata": {
        "_cell_guid": "21ee2636-aad2-4e7c-8f38-321f8b5a78cc",
        "_uuid": "46e110886d5b2e9d4fd4c81d7f80a5495c347fca"
      },
      "cell_type": "markdown",
      "source": "\n\n## 7. <span title=\"A bit spicy\" style=\"color: darkgreen \">🌶️</span>\n\nWhat will Python display after we run the following (weird) code? Think carefully about the order in which Python will evaluate each part. When you have a prediction, uncomment and run the code to check whether you were correct."
    },
    {
      "metadata": {
        "_cell_guid": "a09c1842-7195-43cb-835d-10f7bfef07e2",
        "_uuid": "0fa9bc67cebf910e25ebe4d6803cc8afeea19d22",
        "trusted": true
      },
      "cell_type": "code",
      "source": "print(print(\"Spam\"))",
      "execution_count": 38,
      "outputs": [
        {
          "output_type": "stream",
          "text": "Spam\nNone\n",
          "name": "stdout"
        }
      ]
    },
    {
      "metadata": {
        "_cell_guid": "e70a2b9a-0408-41d2-a276-034e8482f598",
        "_uuid": "ca208bcf55ce37046b55758bb7b0f35feea12a46",
        "trusted": true,
        "collapsed": true
      },
      "cell_type": "code",
      "source": "#q7.hint()",
      "execution_count": null,
      "outputs": []
    },
    {
      "metadata": {
        "trusted": true,
        "_uuid": "0e746e6145418432cfc57c9c93a22a890d3a52b0"
      },
      "cell_type": "code",
      "source": "# Uncomment for an explanation.\n#q7.solution()",
      "execution_count": 40,
      "outputs": []
    },
    {
      "metadata": {
        "_uuid": "629962fca6061913877eb5acf674d1d2bc4f8387"
      },
      "cell_type": "markdown",
      "source": "## 8. <span title=\"Spicy - this optional problem is intended to be extra difficult\" style=\"color: coral\">🌶️🌶️</span>\n\nRead the function definition below. What do you think will be returned by the function call at the bottom of the cell? Will it match the docstring example? Return something else? Or will Python raise an exception? When you're ready, run the code cell to find out."
    },
    {
      "metadata": {
        "trusted": true,
        "_uuid": "f8719bb03aaa39ea4a723ee73073578840e56c87"
      },
      "cell_type": "code",
      "source": "def smallest_stringy_number(s1, s2, s3):\n    \"\"\"Return whichever of the three string arguments represents the smallest number.\n    \n    >>> smallest_stringy_number('1', '2', '3')\n    '1'\n    \"\"\"\n    return min(s1, s2, s3)\n\nsmallest_stringy_number('1', '2', '3')",
      "execution_count": 48,
      "outputs": [
        {
          "output_type": "execute_result",
          "execution_count": 48,
          "data": {
            "text/plain": "'1'"
          },
          "metadata": {}
        }
      ]
    },
    {
      "metadata": {
        "_uuid": "4f6f25c24dc46838d4f3a228984583454e6807af"
      },
      "cell_type": "markdown",
      "source": "<br/><br/><br/><br/><br/><br/><br/><br/><br/>\n\n(If you thought it would raise an exception, that's a perfectly reasonable guess. A large portion of learning Python is just trying stuff out and seeing what happens! A lot of arbitrary or at least subjective decisions go into designing a programming language, and it's not always possible to deduce from first principles how Python will handle a particular situation.)\n\nBut in this case, the `min` function gamely accepts our string inputs and seems to work as desired! Or, at least on the example in the docstring. However, there's a subtle problem afoot. Try experimenting with the function to see if you can find a set of inputs where it fails. Can you see where it's going wrong?"
    },
    {
      "metadata": {
        "trusted": true,
        "_uuid": "aca246d049e88bd4764f2b7a92607fd8d106c793"
      },
      "cell_type": "code",
      "source": "#q8.a.solution()",
      "execution_count": 46,
      "outputs": []
    },
    {
      "metadata": {
        "_uuid": "15506fef1dc489bb976078ae9ba667f4985303c0"
      },
      "cell_type": "markdown",
      "source": "### b.\n\nIn the cell below, modify `smallest_stringy_number` to fix the bug you identified in part a.\n\nReminder: On day one, we briefly saw that `int` can be called on strings such as `'32'` to get the corresponding integer value.\n\n**Bonus**: Can you keep the function's body down to one line? (Try to only use tools we've seen so far - i.e. no loops, conditionals, etc.)"
    },
    {
      "metadata": {
        "trusted": true,
        "_uuid": "ceb553c78da8afb8b15a73b5b50635189ea4a712"
      },
      "cell_type": "code",
      "source": "def smallest_stringy_number(s1, s2, s3):\n    \"\"\"Return whichever of the three string arguments represents the smallest number.\n    \n    >>> smallest_stringy_number('1', '2', '3')\n    '1'\n    \"\"\"\n    return str(min(int(s1), int(s2), int(s3)))\n\nq8.b.check()",
      "execution_count": 51,
      "outputs": [
        {
          "output_type": "display_data",
          "data": {
            "text/plain": "Correct",
            "text/markdown": "<span style=\"color:#33cc33\">Correct</span>"
          },
          "metadata": {}
        }
      ]
    },
    {
      "metadata": {
        "trusted": true,
        "collapsed": true,
        "_uuid": "fe45c7c5a4c5b2f006b5602c0ef1decdda995203"
      },
      "cell_type": "code",
      "source": "#q8.b.hint()",
      "execution_count": null,
      "outputs": []
    },
    {
      "metadata": {
        "trusted": true,
        "collapsed": true,
        "_uuid": "7ead67a3b94d580674a237f9dbcce66393e14727"
      },
      "cell_type": "code",
      "source": "#q8.b.solution()",
      "execution_count": null,
      "outputs": []
    },
    {
      "metadata": {
        "_uuid": "3739b635cf4febea6f32f7ec5a8dfa50b6dad920"
      },
      "cell_type": "markdown",
      "source": "And that's it for today! If you have any questions, be sure to post them on the [forums](https://www.kaggle.com/learn-forum).\n\nRemember that your notebook is private by default, and in order to share it with other people or ask for help with it, you'll need to make it public. First, you'll need to save a version of your notebook that shows your current work by hitting the \"Commit & Run\" button. (Your work is saved automatically, but versioning your work lets you go back and look at what it was like at the point you saved it. It also let's you share a nice compiled notebook instead of just the raw code.) Then, once your notebook is finished running, you can go to the Settings tab in the panel to the left (you may have to expand it by hitting the [<] button next to the \"Commit & Run\" button) and setting the \"Visibility\" dropdown to \"Public\".\n\nI'll see you tomorrow for day 3. We'll be learning about booleans, conditionals, and more."
    }
  ],
  "metadata": {
    "kernelspec": {
      "display_name": "Python 3",
      "language": "python",
      "name": "python3"
    },
    "language_info": {
      "name": "python",
      "version": "3.6.5",
      "mimetype": "text/x-python",
      "codemirror_mode": {
        "name": "ipython",
        "version": 3
      },
      "pygments_lexer": "ipython3",
      "nbconvert_exporter": "python",
      "file_extension": ".py"
    }
  },
  "nbformat": 4,
  "nbformat_minor": 1
}