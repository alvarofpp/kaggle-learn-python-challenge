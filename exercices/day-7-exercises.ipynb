{
  "cells": [
    {
      "metadata": {
        "_uuid": "13b0d8661d34211bce32c346779ddb2fdc4b4782"
      },
      "cell_type": "markdown",
      "source": "Welcome to the exercises for day 7 (to go along with the day 7 tutorial notebook on [imports and objects](https://www.kaggle.com/colinmorris/learn-python-challenge-day-7))\n\nThere are only four problems today, but they're all pretty tricky, so be on guard! If you get stuck, don't hesitate to head to the [Learn Forum](https://kaggle.com/learn-forum) to discuss.\n\nRun the setup code below before working on the questions (and run it again if you leave this notebook and come back later)."
    },
    {
      "metadata": {
        "trusted": false,
        "collapsed": true,
        "_uuid": "0b1703b58a98ea7e7c737274f921503eddf47e5c"
      },
      "cell_type": "code",
      "source": "# SETUP. You don't need to worry for now about what this code does or how it works. If you're ever curious about the \n# code behind these exercises, it's available under an open source license here: https://github.com/Kaggle/learntools/\nimport sys; sys.path.insert(0, '../input/learntools/pseudo_learntools')\nfrom learntools.python import binder; binder.bind(globals())\nfrom learntools.python.ex7 import *\nprint('Setup complete.')",
      "execution_count": null,
      "outputs": []
    },
    {
      "metadata": {
        "_uuid": "f392abb4235e253a9472f0bde96d32308e6e918d"
      },
      "cell_type": "markdown",
      "source": "# Exercises"
    },
    {
      "metadata": {
        "_uuid": "1822e34d8972d7441920841a20a911f3ce421811"
      },
      "cell_type": "markdown",
      "source": "## 1.\n\nAfter completing day 5 of the Learn Python Challenge, Jimmy noticed that, according to his `estimate_average_slot_payout` function, the slot machines at the Learn Python Casino are actually rigged *against* the house, and are profitable to play in the long run.\n\nStarting with $200 in his pocket, Jimmy has played the slots 500 times, recording his new balance in a list after each spin. He used Python's `matplotlib` library to make a graph of his balance over time:"
    },
    {
      "metadata": {
        "trusted": false,
        "_uuid": "45e74ef3e40b707d8e6079b62159a0a9f35f4ae4",
        "collapsed": true
      },
      "cell_type": "code",
      "source": "# Import the jimmy_slots submodule\nfrom learntools.python import jimmy_slots\n# Call the get_graph() function to get Jimmy's graph\ngraph = jimmy_slots.get_graph()\ngraph",
      "execution_count": null,
      "outputs": []
    },
    {
      "metadata": {
        "_uuid": "c6bd6e31a919af3446551175bdfb067f87a71545"
      },
      "cell_type": "markdown",
      "source": "As you can see, he's hit a bit of bad luck recently. He wants to tweet this along with some choice emojis, but, as it looks right now, his followers will probably find it confusing. He's asked if you can help him make the following changes:\n\n1. Add the title \"Results of 500 slot machine pulls\"\n2. Make the y-axis start at 0. \n3. Add the label \"Balance\" to the y-axis\n\nAfter calling `type(graph)` you see that Jimmy's graph is of type `matplotlib.axes._subplots.AxesSubplot`. Hm, that's a new one. By calling `dir(graph)`, you find three methods that seem like they'll be useful: `.set_title()`, `.set_ylim()`, and `.set_ylabel()`. \n\nUse these methods to complete the function `prettify_graph` according to Jimmy's requests. We've already checked off the first request for you (setting a title).\n\n(Remember: if you don't know what these methods do, use the `help()` function!)"
    },
    {
      "metadata": {
        "trusted": false,
        "_uuid": "d3244e50b4be79a5fa76970e2efc78a12960b999",
        "collapsed": true
      },
      "cell_type": "code",
      "source": "def prettify_graph(graph):\n    \"\"\"Modify the given graph according to Jimmy's requests: add a title, make the y-axis\n    start at 0, label the y-axis. (And, if you're feeling ambitious, format the tick marks\n    as dollar amounts using the \"$\" symbol.)\n    \"\"\"\n    graph.set_title(\"Results of 500 slot machine pulls\")\n    # Complete steps 2 and 3 here\n\ngraph = jimmy_slots.get_graph()\nprettify_graph(graph)\ngraph",
      "execution_count": null,
      "outputs": []
    },
    {
      "metadata": {
        "_uuid": "06063f8076a914dc3ffcf77d373d4d0d83897e3f"
      },
      "cell_type": "markdown",
      "source": "**Bonus:** Can you format the numbers on the y-axis so they look like dollar amounts? e.g. $200 instead of just 200.\n\n(We're not going to tell you what method(s) to use here. You'll need to go digging yourself with `dir(graph)` and/or `help(graph)`.)"
    },
    {
      "metadata": {
        "trusted": false,
        "collapsed": true,
        "_uuid": "752b795d17dbfc0c5021551a2ff4a6c002fe7b7e"
      },
      "cell_type": "code",
      "source": "#q1.solution()",
      "execution_count": null,
      "outputs": []
    },
    {
      "metadata": {
        "_uuid": "3a42251ec0d9f305bba34b37622f91f5365e3ea0"
      },
      "cell_type": "markdown",
      "source": "## 2. <span title=\"Spicy\" style=\"color: coral\">🌶️🌶️</span>\n\nLuigi is trying to perform an analysis to determine the best items for winning races on the Mario Kart circuit. He has some data in the form of lists of dictionaries that look like...\n\n    [\n        {'name': 'Peach', 'items': ['green shell', 'banana', 'green shell',], 'finish': 3},\n        {'name': 'Bowser', 'items': ['green shell',], 'finish': 1},\n        # Sometimes the racer's name wasn't recorded\n        {'name': None, 'items': ['mushroom',], 'finish': 2},\n        {'name': 'Toad', 'items': ['green shell', 'mushroom'], 'finish': 1},\n    ]\n\n`'items'` is a list of all the power-up items the racer picked up in that race, and `'finish'` was their placement in the race (1 for first place, 3 for third, etc.).\n\nHe wrote the function below to take a list like this and return a dictionary mapping each item to how many times it was picked up by first-place finishers."
    },
    {
      "metadata": {
        "trusted": false,
        "collapsed": true,
        "_uuid": "c6f0cf92e8be98ad651b8f0928cbad8cb68d0fe7"
      },
      "cell_type": "code",
      "source": "def best_items(racers):\n    \"\"\"Given a list of racer dictionaries, return a dictionary mapping items to the number\n    of times those items were picked up by racers who finished in first place.\n    \"\"\"\n    winner_item_counts = {}\n    for i in range(len(racers)):\n        # The i'th racer dictionary\n        racer = racers[i]\n        # We're only interested in racers who finished in first\n        if racer['finish'] == 1:\n            for i in racer['items']:\n                # Add one to the count for this item (adding it to the dict if necessary)\n                if i not in winner_item_counts:\n                    winner_item_counts[i] = 0\n                winner_item_counts[i] += 1\n\n        # Data quality issues :/ Print a warning about racers with no name set. We'll take care of it later.\n        if racer['name'] is None:\n            print(\"WARNING: Encountered racer with unknown name on iteration {}/{} (racer = {})\".format(\n                i+1, len(racers), racer['name'])\n                 )\n    return winner_item_counts",
      "execution_count": null,
      "outputs": []
    },
    {
      "metadata": {
        "_uuid": "34dadfabed4c97fcf685e636e3d2a133e85aad48"
      },
      "cell_type": "markdown",
      "source": "He tried it on a small example list above and it seemed to work correctly:"
    },
    {
      "metadata": {
        "trusted": false,
        "_uuid": "b8398bb0fa794fd8ff0b212885627bdd79314ad8",
        "collapsed": true
      },
      "cell_type": "code",
      "source": "sample = [\n    {'name': 'Peach', 'items': ['green shell', 'banana', 'green shell',], 'finish': 3},\n    {'name': 'Bowser', 'items': ['green shell',], 'finish': 1},\n    {'name': None, 'items': ['mushroom',], 'finish': 2},\n    {'name': 'Toad', 'items': ['green shell', 'mushroom'], 'finish': 1},\n]\nbest_items(sample)",
      "execution_count": null,
      "outputs": []
    },
    {
      "metadata": {
        "_uuid": "f4d3efb7a6c5e9bc956dd0780a99d333bf2a0c37"
      },
      "cell_type": "markdown",
      "source": "However, when he tried running it on his full dataset, the program crashed with a `TypeError`.\n\nCan you guess why? Try running the code cell below to see the error message Luigi is getting. Once you've identified the bug, fix it in the cell below (so that it runs without any errors).\n\nHint: Luigi's bug is similar to one we encountered in the [day 7 tutorial](https://www.kaggle.com/colinmorris/learn-python-challenge-day-7) when we talked about star imports."
    },
    {
      "metadata": {
        "trusted": false,
        "_uuid": "acaca9d7981d2ee931a49e786a378a124f9353b8",
        "collapsed": true
      },
      "cell_type": "code",
      "source": "# Import luigi's full dataset of race data\nfrom learntools.python.luigi_analysis import full_dataset\n\n# Fix me!\ndef best_items(racers):\n    winner_item_counts = {}\n    for i in range(len(racers)):\n        # The i'th racer dictionary\n        racer = racers[i]\n        # We're only interested in racers who finished in first\n        if racer['finish'] == 1:\n            for i in racer['items']:\n                # Add one to the count for this item (adding it to the dict if necessary)\n                if i not in winner_item_counts:\n                    winner_item_counts[i] = 0\n                winner_item_counts[i] += 1\n\n        # Data quality issues :/ Print a warning about racers with no name set. We'll take care of it later.\n        if racer['name'] is None:\n            print(\"WARNING: Encountered racer with unknown name on iteration {}/{} (racer = {})\".format(\n                i+1, len(racers), racer['name'])\n                 )\n    return winner_item_counts\n\n# Try analyzing the imported full dataset\nbest_items(full_dataset)",
      "execution_count": null,
      "outputs": []
    },
    {
      "metadata": {
        "trusted": false,
        "collapsed": true,
        "_uuid": "31ac653876c26165d7639cf607cd25973f8e43e4"
      },
      "cell_type": "code",
      "source": "#q2.hint()",
      "execution_count": null,
      "outputs": []
    },
    {
      "metadata": {
        "trusted": false,
        "collapsed": true,
        "_uuid": "4011a882328a6c0451c8068ea54e420098338880"
      },
      "cell_type": "code",
      "source": "#q2.solution()",
      "execution_count": null,
      "outputs": []
    },
    {
      "metadata": {
        "_uuid": "b81c4588632b0679884c092499a0d2b6283d857c"
      },
      "cell_type": "markdown",
      "source": "## 3. <span title=\"A bit spicy\" style=\"color: darkgreen \">🌶️</span>\n\nSuppose we wanted to create a new type to represent hands in blackjack. One thing we might want to do with this type is overload the comparison operators like `>` and `<=` so that we could use them to check whether one hand beats another. e.g. it'd be cool if we could do this:\n\n```python\n>>> hand1 = BlackjackHand(['K', 'A'])\n>>> hand2 = BlackjackHand(['7', '10', 'A'])\n>>> hand1 > hand2\nTrue\n```\n\nWell, we're not going to do all that in this question (defining custom classes was a bit too advanced to make the cut for the Learn Python Challenge), but the code we're asking you to write in the function below is very similar to what we'd have to write if we were defining our own `BlackjackHand` class. (We'd put it in the `__gt__` magic method to define our custom behaviour for `>`.)\n\nFill in the body of the `blackjack_hand_greater_than` function according to the docstring."
    },
    {
      "metadata": {
        "trusted": false,
        "collapsed": true,
        "_uuid": "86b0ad9b95320c8c4d573e2576374fb6e45f5e91"
      },
      "cell_type": "code",
      "source": "def blackjack_hand_greater_than(hand_1, hand_2):\n    \"\"\"\n    Return True if hand_1 beats hand_2, and False otherwise.\n    \n    In order for hand_1 to beat hand_2 the following must be true:\n    - The total of hand_1 must not exceed 21\n    - The total of hand_1 must exceed the total of hand_2 OR hand_2's total must exceed 21\n    \n    Hands are represented as a list of cards. Each card is represented by a string.\n    \n    When adding up a hand's total, cards with numbers count for that many points. Face\n    cards ('J', 'Q', and 'K') are worth 10 points. 'A' can count for 1 or 11.\n    \n    When determining a hand's total, you should try to count aces in the way that \n    maximizes the hand's total without going over 21. e.g. the total of ['A', 'A', '9'] is 21,\n    the total of ['A', 'A', '9', '3'] is 14.\n    \n    Examples:\n    >>> blackjack_hand_greater_than(['K'], ['3', '4'])\n    True\n    >>> blackjack_hand_greater_than(['K'], ['10'])\n    False\n    >>> blackjack_hand_greater_than(['K', 'K', '2'], ['3'])\n    False\n    \"\"\"\n    pass\n\nq3.check()",
      "execution_count": null,
      "outputs": []
    },
    {
      "metadata": {
        "trusted": false,
        "collapsed": true,
        "_uuid": "c11bb2f15a30792c99bebfac5f56337b1f318cd9"
      },
      "cell_type": "code",
      "source": "#q3.hint()\n#q3.solution()",
      "execution_count": null,
      "outputs": []
    },
    {
      "metadata": {
        "_uuid": "793103140cdda1fe6f993d2e8fe25c5928c92e22"
      },
      "cell_type": "markdown",
      "source": "## 4. <span title=\"Spicy\" style=\"color: coral\">🌶️🌶️</span>\n\nIn day 6 of the challenge, you heard a tip-off that the roulette tables at the Learn Python Casino had some quirk where the probability of landing on a particular number was partly dependent on the number the wheel most recently landed on. You wrote a function `conditional_roulette_probs` which returned a dictionary with counts of how often the wheel landed on `x` then `y` for each value of `x` and `y`.\n\nAfter analyzing the output of your function, you've come to the following conclusion: for each wheel in the casino, there is exactly one pair of numbers `a` and `b`, such that, after the wheel lands on `a`, it's significantly more likely to land on `b` than any other number. If the last spin landed on anything other than `a`, then it acts like a normal roulette wheel, with equal probability of landing on any of the 11 numbers (* the casino's wheels are unusually small - they only have the numbers from 0 to 10 inclusive).\n\nIt's time to exploit this quirk for fun and profit. You'll be writing a roulette-playing agent to beat the house. When called, your agent will have an opportunity to sit down at one of the casino's wheels for 100 spins. You don't need to bet on every spin. For example, the agent below bets on a random number unless the last spin landed on 4 (in which case it just watches)."
    },
    {
      "metadata": {
        "trusted": false,
        "_uuid": "f9206e3a0007643bd467064a30bcde93b6af8e1b",
        "collapsed": true
      },
      "cell_type": "code",
      "source": "from learntools.python import roulette\nimport random\n\ndef random_and_superstitious(wheel):\n    \"\"\"Interact with the given wheel over 100 spins with the following strategy:\n    - if the wheel lands on 4, don't bet on the next spin\n    - otherwise, bet on a random number on the wheel (from 0 to 10)\n    \"\"\"\n    last_number = 0\n    while wheel.num_remaining_spins() > 0:\n        if last_number == 4:\n            # Unlucky! Don't bet anything.\n            guess = None\n        else:\n            guess = random.randint(0, 10)\n        last_number = wheel.spin(number_to_bet_on=guess)\n\nroulette.evaluate_roulette_strategy(random_and_superstitious)",
      "execution_count": null,
      "outputs": []
    },
    {
      "metadata": {
        "_uuid": "4680a69276fc43c50ef875fcb409dd4373259f23"
      },
      "cell_type": "markdown",
      "source": "As you might have guessed, our random/superstitious agent bleeds money. Can you write an agent that beats the house? (i.e. can you make \"Average gain per simulation\" positive?)\n\nFor more information on the type of object your agent will be passed, try calling `help(roulette.RouletteSession)`. You can also call `help(roulette.evaluate_roulette_strategy)` to see some optional parameters you can change regarding the conditions under which we test your  agent.\n\nHINT: it might help to go back to your [day 6 exercise notebook](https://www.kaggle.com/kernels/fork/962743) and review your code for `conditional_roulette_probs` for inspiration."
    },
    {
      "metadata": {
        "trusted": false,
        "collapsed": true,
        "_uuid": "cf42556aef5906bd1a832339e6e6fc291698272f"
      },
      "cell_type": "code",
      "source": "def my_agent(wheel):\n    pass\n\nroulette.evaluate_roulette_strategy(my_agent)",
      "execution_count": null,
      "outputs": []
    },
    {
      "metadata": {
        "_uuid": "49decfb985645edcfef239664ea28586ff652c54"
      },
      "cell_type": "markdown",
      "source": "How much profit are you able to reach? Post your results on the forums to see how your strategy compares to others'."
    },
    {
      "metadata": {
        "_uuid": "b209960f9acbcc68143ddd53a2242e6706523045"
      },
      "cell_type": "markdown",
      "source": "## The end\n\nYou've finished the Learn Python Challenge. Congrats!\n\nThough you'd see this message just from scrolling down, even if you didn't write a line of code. So maybe you've done it, and maybe not.\n\nIf you have questions from the challenge, or just want to keep talking about it, come to the [Learn Forum](https://kaggle.com/learn-forum).\n\nIf you want to keep building your skills with our Data Science courses, check out [Kaggle Learn](https://www.kaggle.com/Learn).\n\nThanks for sticking with the Challenge all the way to the end. I hope you've had fun. :)"
    }
  ],
  "metadata": {
    "kernelspec": {
      "display_name": "Python 3",
      "language": "python",
      "name": "python3"
    },
    "language_info": {
      "name": "python",
      "version": "3.6.5",
      "mimetype": "text/x-python",
      "codemirror_mode": {
        "name": "ipython",
        "version": 3
      },
      "pygments_lexer": "ipython3",
      "nbconvert_exporter": "python",
      "file_extension": ".py"
    }
  },
  "nbformat": 4,
  "nbformat_minor": 1
}