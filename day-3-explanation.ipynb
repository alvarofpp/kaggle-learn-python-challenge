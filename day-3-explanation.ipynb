{
  "cells": [
    {
      "metadata": {
        "_cell_guid": "b1076dfc-b9ad-4769-8c92-a6c4dae69d19",
        "_uuid": "8f2839f25d086af736a60e9eeb907d3b93b6e0e5"
      },
      "cell_type": "markdown",
      "source": "# Day 3: Booleans and Conditionals\n\nWelcome to day 3 of the Python Challenge! In case you missed the first two days, here are links to [day 1](https://www.kaggle.com/colinmorris/learn-python-challenge-day-1) and [day 2](https://www.kaggle.com/colinmorris/learn-python-challenge-day-2). Today we'll learn about booleans and conditionals. \n\nPython has a type `bool` which can take on one of two values: `True` and `False`."
    },
    {
      "metadata": {
        "_cell_guid": "79c7e3d0-c299-4dcb-8224-4455121ee9b0",
        "_uuid": "d629ff2d2480ee46fbb7e2d37f6b5fab8052498a",
        "trusted": true
      },
      "cell_type": "code",
      "source": "x = True\nprint(x)\nprint(type(x))",
      "execution_count": 1,
      "outputs": [
        {
          "output_type": "stream",
          "text": "True\n<class 'bool'>\n",
          "name": "stdout"
        }
      ]
    },
    {
      "metadata": {
        "_cell_guid": "e0505574-b21b-4f8c-a920-e06869dd4b8e",
        "_uuid": "993ce5fae7a6a483eb944d1363c586904cff687b"
      },
      "cell_type": "markdown",
      "source": "Rather than putting `True` or `False` directly in our code, we usually get boolean values from **boolean operators**. These are operators that answer yes/no questions. We'll go through some of these operators below. "
    },
    {
      "metadata": {
        "_cell_guid": "83256f8e-ba10-465f-8de0-bbf38ee5882c",
        "_uuid": "d6db7e7ed7b7a4eb5fad542fbae05c6bbe0184a0"
      },
      "cell_type": "markdown",
      "source": "## Comparison Operations\n\n| Operation     | Description                       || Operation     | Description                          |\n|---------------|-----------------------------------||---------------|--------------------------------------|\n| ``a == b``    | ``a`` equal to ``b``              || ``a != b``    | ``a`` not equal to ``b``             |\n| ``a < b``     | ``a`` less than ``b``             || ``a > b``     | ``a`` greater than ``b``             |\n| ``a <= b``    | ``a`` less than or equal to ``b`` || ``a >= b``    | ``a`` greater than or equal to ``b`` |\n\n"
    },
    {
      "metadata": {
        "_cell_guid": "4952537e-7713-404b-b530-cd5e64e5d2c7",
        "_uuid": "7475c5592ee46d67f66092b648af94a3cb58784c",
        "trusted": true
      },
      "cell_type": "code",
      "source": "def can_run_for_president(age):\n    \"\"\"Can someone of the given age run for president in the US?\"\"\"\n    # The US Constitution says you must \"have attained to the Age of thirty-five Years\"\n    return age >= 35\n\nprint(\"Can a 19-year-old run for president?\", can_run_for_president(19))\nprint(\"Can a 45-year-old run for president?\", can_run_for_president(45))",
      "execution_count": 2,
      "outputs": [
        {
          "output_type": "stream",
          "text": "Can a 19-year-old run for president? False\nCan a 45-year-old run for president? True\n",
          "name": "stdout"
        }
      ]
    },
    {
      "metadata": {
        "_cell_guid": "3eafe791-a70d-468e-bc4a-a34248dcc59d",
        "_uuid": "ad04bea09cd07b9ed69920e85a400cdf659f2911"
      },
      "cell_type": "markdown",
      "source": "Comparisons are a little bit clever..."
    },
    {
      "metadata": {
        "_cell_guid": "13c30fa5-a4ec-4631-a3dd-b438d33e15e3",
        "_uuid": "73a1b6523516b6ba3319cbac8e2879fe4280d747",
        "trusted": true
      },
      "cell_type": "code",
      "source": "3.0 == 3",
      "execution_count": 3,
      "outputs": [
        {
          "output_type": "execute_result",
          "execution_count": 3,
          "data": {
            "text/plain": "True"
          },
          "metadata": {}
        }
      ]
    },
    {
      "metadata": {
        "_cell_guid": "e18c3fce-2b8d-444f-9965-6e18800a94a2",
        "_uuid": "00c87f18548109164cab140ca72426736130c89a"
      },
      "cell_type": "markdown",
      "source": "But not too clever..."
    },
    {
      "metadata": {
        "_cell_guid": "7ef561f1-8aa6-4612-aafb-5a9a57067d05",
        "_uuid": "b1175abff7ce5583622dc9643878a79c7b1b146a",
        "trusted": true
      },
      "cell_type": "code",
      "source": "'3' == 3",
      "execution_count": 4,
      "outputs": [
        {
          "output_type": "execute_result",
          "execution_count": 4,
          "data": {
            "text/plain": "False"
          },
          "metadata": {}
        }
      ]
    },
    {
      "metadata": {
        "_cell_guid": "5d66b353-6afa-4e3e-a540-95488b8a5e42",
        "_uuid": "c6596b830d9fca56be880169e6a578ed44f91918"
      },
      "cell_type": "markdown",
      "source": "Comparison operators can be combined with the arithmetic operators we've already seen to express a virtually limitless range of mathematical tests. For example, we can check if a number is odd by checking that the modulus with 2 returns 1:"
    },
    {
      "metadata": {
        "_cell_guid": "383a7e19-7745-4333-9fa3-ec0e56411f81",
        "_uuid": "4fbab139ca9d2537ec7d7d74d8b69e3843eb0dd8",
        "trusted": true
      },
      "cell_type": "code",
      "source": "def is_odd(n):\n    return (n % 2) == 1\n\nprint(\"Is 100 odd?\", is_odd(100))\nprint(\"Is -1 odd?\", is_odd(-1))",
      "execution_count": 5,
      "outputs": [
        {
          "output_type": "stream",
          "text": "Is 100 odd? False\nIs -1 odd? True\n",
          "name": "stdout"
        }
      ]
    },
    {
      "metadata": {
        "_uuid": "2ca720e8ac941e2f5cf1c1b0f0e70916a873e6fa"
      },
      "cell_type": "markdown",
      "source": "Remember to use `==` instead of `=` when making comparisons. If you write `n == 2` you are asking about the value of n. When you write `n = 2` you are changing the value of n."
    },
    {
      "metadata": {
        "_cell_guid": "6200a596-2228-4870-a82f-058f71842477",
        "_uuid": "a589129a9876c913c549f70469ce7da7408eeaba"
      },
      "cell_type": "markdown",
      "source": "## Combining Boolean Values\nPython provides operators to combine boolean values using the standard concepts of \"and\", \"or\", and \"not\". And in fact, the corresponding Python operators use just those words: ``and``, ``or``, and ``not``.\n\nWith these, we can make our `can_run_for_president` function more accurate."
    },
    {
      "metadata": {
        "_cell_guid": "7031a0bd-254e-45b3-a101-7f1d101a927f",
        "_uuid": "3488bfbc62f172025cbc06845fe1ffb02f6e5157",
        "trusted": true
      },
      "cell_type": "code",
      "source": "def can_run_for_president(age, is_natural_born_citizen):\n    \"\"\"Can someone of the given age and citizenship status run for president in the US?\"\"\"\n    # The US Constitution says you must be a natural born citizen *and* at least 35 years old\n    return is_natural_born_citizen and (age >= 35)\n\nprint(can_run_for_president(19, True))\nprint(can_run_for_president(55, False))\nprint(can_run_for_president(55, True))",
      "execution_count": 6,
      "outputs": [
        {
          "output_type": "stream",
          "text": "False\nFalse\nTrue\n",
          "name": "stdout"
        }
      ]
    },
    {
      "metadata": {
        "_cell_guid": "6e96e8c8-7d58-443e-825e-f378e35a9f9a",
        "_uuid": "00f6877b74378ceb7e33853ea3fd279553b39cf3"
      },
      "cell_type": "markdown",
      "source": "Quick, can you guess the value of this expression?"
    },
    {
      "metadata": {
        "_cell_guid": "ba4e07ce-a852-4de6-a4d8-87c410beecf1",
        "_kg_hide-output": true,
        "_uuid": "d672e8b6d2684e9e0d2e309596ba69fe8a14ca9e",
        "trusted": true
      },
      "cell_type": "code",
      "source": "True or True and False",
      "execution_count": 7,
      "outputs": [
        {
          "output_type": "execute_result",
          "execution_count": 7,
          "data": {
            "text/plain": "True"
          },
          "metadata": {}
        }
      ]
    },
    {
      "metadata": {
        "_cell_guid": "a72bea53-d9ac-4e28-aa9b-96b97e3cf786",
        "_uuid": "d532299dff4515c64f4a3924eeb0fa8138682b31"
      },
      "cell_type": "markdown",
      "source": "(Click the \"output\" button to see the answer)\n\nPython has precedence rules that determine the order in which operations get evaluated in expressions like above. For example, `and` has a higher precedence than `or`, which is why the first expression above is `True`. If we had evaluated it from left to right, we would have calculated `True or True` first (which is `True`), and then taken the `and` of that result with `False`, giving a final value of `False`.\n\nYou could try to [memorize the order of precedence](https://docs.python.org/3/reference/expressions.html#operator-precedence), but a safer bet is to just use liberal parentheses. Not only does this help prevent bugs, it makes your intentions clearer to anyone who reads your code. \n\nFor example, consider the following expression:\n\n```python\nprepared_for_weather = have_umbrella or rain_level < 5 and have_hood or not rain_level > 0 and is_workday\n```\n\nI'm trying to say that I'm safe from today's weather....\n- if I have an umbrella...\n- or if the rain isn't too heavy and I have a hood...\n- otherwise, I'm still fine unless it's raining *and* it's a workday\n\nBut not only is my Python code hard to read, it has a bug. We can address both problems by adding some parentheses:\n\n```python\nprepared_for_weather = have_umbrella or (rain_level < 5 and have_hood) or not (rain_level > 0 and is_workday)\n```\n\nYou can add even more parentheses if you think it helps readability:\n\n```python\nprepared_for_weather = have_umbrella or ((rain_level < 5) and have_hood) or (not (rain_level > 0 and is_workday))\n```\n\nWe can also split it over multiple lines to emphasize the 3-part structure described above:\n\n```python\nprepared_for_weather = (\n    have_umbrella \n    or ((rain_level < 5) and have_hood) \n    or (not (rain_level > 0 and is_workday))\n)\n```"
    },
    {
      "metadata": {
        "_cell_guid": "6359d050-39e3-4e5b-97ad-923973e4f0b2",
        "_uuid": "fcf738e4cb1d782a6aeb6577ba0f5c836a400777"
      },
      "cell_type": "markdown",
      "source": "## Conditionals\n\nWhile useful enough in their own right, booleans really start to shine when combined with *conditional statements*, using the keywords ``if``, ``elif``, and ``else``.\n\nConditional statements, often referred to as *if-then* statements, allow the programmer to execute certain pieces of code depending on some Boolean condition.\nA basic example of a Python conditional statement is this:"
    },
    {
      "metadata": {
        "_cell_guid": "1a005c26-9b90-4e24-8d9c-ecc88afa780a",
        "_uuid": "58e86338ac4e6d06944870ac2b899c267ea588b2",
        "trusted": true
      },
      "cell_type": "code",
      "source": "def inspect(x):\n    if x == 0:\n        print(x, \"is zero\")\n    elif x > 0:\n        print(x, \"is positive\")\n    elif x < 0:\n        print(x, \"is negative\")\n    else:\n        print(x, \"is unlike anything I've ever seen...\")\n\ninspect(0)\ninspect(-15)",
      "execution_count": 8,
      "outputs": [
        {
          "output_type": "stream",
          "text": "0 is zero\n-15 is negative\n",
          "name": "stdout"
        }
      ]
    },
    {
      "metadata": {
        "_cell_guid": "00e7e75e-b426-44ac-bebd-0f3e2785f201",
        "_uuid": "1c15a1be62bd3cb2685fcb2d480bdb6a2a410f23"
      },
      "cell_type": "markdown",
      "source": "Python adopts the ``if`` and ``else`` often used in other languages; its more unique keyword is ``elif``, a contraction of \"else if\".\nIn these conditional clauses, ``elif`` and ``else`` blocks are optional; additionally, you can include as many ``elif`` statements as you would like.\n\nNote especially the use of colons (``:``) and whitespace to denote separate blocks of code. This is similar to what happens when we define a function - the function header ends with `:`, and the following line is indented with 4 spaces. All subsequent indented lines belong to the body of the function, until we encounter an unindented line, ending the function definition."
    },
    {
      "metadata": {
        "_cell_guid": "895a2bf8-a357-4d7d-8800-c46bf7573389",
        "_uuid": "16d6582331e7715cb19489337ea22e3674043570",
        "trusted": true
      },
      "cell_type": "code",
      "source": "def f(x):\n    if x > 0:\n        print(\"Only printed when x is positive; x =\", x)\n        print(\"Also only printed when x is positive; x =\", x)\n    print(\"Always printed, regardless of x's value; x =\", x)\n\nf(1)\nf(0)",
      "execution_count": 9,
      "outputs": [
        {
          "output_type": "stream",
          "text": "Only printed when x is positive; x = 1\nAlso only printed when x is positive; x = 1\nAlways printed, regardless of x's value; x = 1\nAlways printed, regardless of x's value; x = 0\n",
          "name": "stdout"
        }
      ]
    },
    {
      "metadata": {
        "_uuid": "60daba401db37fba275d4d7af907defe21523723"
      },
      "cell_type": "markdown",
      "source": "## Boolean conversion\n\nWe've seen `int()`, which turns things into ints, and `float()`, which turns things into floats, so you might not be surprised to hear that Python has a `bool()` function which turns things into bools."
    },
    {
      "metadata": {
        "trusted": true,
        "_uuid": "0e9fcf3217586376b431180cd22793338719bc87"
      },
      "cell_type": "code",
      "source": "print(bool(1)) # all numbers are treated as true, except 0\nprint(bool(0))\nprint(bool(\"asf\")) # all strings are treated as true, except the empty string \"\"\nprint(bool(\"\"))\n# Generally empty sequences (strings, lists, and other types we've yet to see like lists and tuples)\n# are \"falsey\" and the rest are \"truthy\"",
      "execution_count": 10,
      "outputs": [
        {
          "output_type": "stream",
          "text": "True\nFalse\nTrue\nFalse\n",
          "name": "stdout"
        }
      ]
    },
    {
      "metadata": {
        "_uuid": "2702244db0791c21c3fb5a0d142bb04c036184f9"
      },
      "cell_type": "markdown",
      "source": "We can use non-boolean objects in `if` conditions and other places where a boolean would be expected. Python will implicitly treat them as their corresponding boolean value:"
    },
    {
      "metadata": {
        "trusted": true,
        "_uuid": "9769deddf740adf26c488a30029aa61795543e1c"
      },
      "cell_type": "code",
      "source": "if 0:\n    print(0)\nelif \"spam\":\n    print(\"spam\")",
      "execution_count": 11,
      "outputs": [
        {
          "output_type": "stream",
          "text": "spam\n",
          "name": "stdout"
        }
      ]
    },
    {
      "metadata": {
        "_uuid": "05f5c653b4dd9c489c158073cd43134d31ed525a"
      },
      "cell_type": "markdown",
      "source": "## Conditional expressions (aka 'ternary')\n\nSetting a variable to either of two values depending on some condition is a pretty common pattern."
    },
    {
      "metadata": {
        "trusted": true,
        "_uuid": "22769180e646dee7bd84f069b85d5ca717eedb55"
      },
      "cell_type": "code",
      "source": "def quiz_message(grade):\n    if grade < 50:\n        outcome = 'failed'\n    else:\n        outcome = 'passed'\n    print('You', outcome, 'the quiz with a grade of', grade)\n    \nquiz_message(80)",
      "execution_count": 12,
      "outputs": [
        {
          "output_type": "stream",
          "text": "You passed the quiz with a grade of 80\n",
          "name": "stdout"
        }
      ]
    },
    {
      "metadata": {
        "_uuid": "b57b1fd14f6628916173457f1e7748100cb0ede1"
      },
      "cell_type": "markdown",
      "source": "Python has a handy single-line 'conditional expression' syntax to simplify these cases:"
    },
    {
      "metadata": {
        "trusted": true,
        "_uuid": "7d941c1ceea82c9c74c0add8a21d85be05c3d84f"
      },
      "cell_type": "code",
      "source": "def quiz_message(grade):\n    outcome = 'failed' if grade < 50 else 'passed'\n    print('You', outcome, 'the quiz with a grade of', grade)\n    \nquiz_message(45)",
      "execution_count": 13,
      "outputs": [
        {
          "output_type": "stream",
          "text": "You failed the quiz with a grade of 45\n",
          "name": "stdout"
        }
      ]
    },
    {
      "metadata": {
        "_uuid": "37921139ea3f2807f2afe7f308b69bc330dd2e8d"
      },
      "cell_type": "markdown",
      "source": "<small>You may recognize this as being similar to the <i>ternary operator</i> that exists in many other languages. For example, in javascript, we would write the assignment above as `var outcome = grade < 50 ? 'failed' : 'passed'`. (When it comes to readability, I think Python is the winner here.)</small>"
    },
    {
      "metadata": {
        "_uuid": "716ce740117708e5bf9d00061730d0543b08fbfe"
      },
      "cell_type": "markdown",
      "source": "# Your Turn\n\nHead over to the [exercise](http://www.kaggle.com/kernels/fork/958279) test your knowledge of Python booleans and conditionals."
    }
  ],
  "metadata": {
    "kernelspec": {
      "display_name": "Python 3",
      "language": "python",
      "name": "python3"
    },
    "language_info": {
      "name": "python",
      "version": "3.6.6",
      "mimetype": "text/x-python",
      "codemirror_mode": {
        "name": "ipython",
        "version": 3
      },
      "pygments_lexer": "ipython3",
      "nbconvert_exporter": "python",
      "file_extension": ".py"
    }
  },
  "nbformat": 4,
  "nbformat_minor": 1
}