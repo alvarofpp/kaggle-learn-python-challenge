{
  "cells": [
    {
      "metadata": {
        "_cell_guid": "89829688-b2f4-42d8-bc74-73e4ab213dc1",
        "_uuid": "29f1ee0f54a85d9631137eb2dcc1eec5ba34132b"
      },
      "cell_type": "markdown",
      "source": "Welcome to day 4 of the Python Challenge! If you missed any of the previous days, here are the links:\n\n- [Day 1 (syntax, variable assignment, numbers)](https://www.kaggle.com/colinmorris/learn-python-challenge-day-1)\n- [Day 2 (functions and getting help)](https://www.kaggle.com/colinmorris/learn-python-challenge-day-2)\n- [Day 3 (booleans and conditionals)](https://www.kaggle.com/colinmorris/learn-python-challenge-day-3)\n\nToday we'll be talking about **lists**.\n\nLists in Python represent ordered sequences of values. They can be defined with comma-separated values between square brackets. For example, here is a list of the first few prime numbers:"
    },
    {
      "metadata": {
        "_cell_guid": "0f21656b-be8a-43c2-8d5e-0f28d598556b",
        "_uuid": "f23b210c7709bacd066a8ba9730a2f490b61aa9f",
        "trusted": true,
        "collapsed": true
      },
      "cell_type": "code",
      "source": "primes = [2, 3, 5, 7]",
      "execution_count": null,
      "outputs": []
    },
    {
      "metadata": {
        "_uuid": "563d5859a7e5ceb99957f887bb08869f37fa60b3"
      },
      "cell_type": "markdown",
      "source": "We can put other types of things in lists:"
    },
    {
      "metadata": {
        "trusted": true,
        "collapsed": true,
        "_uuid": "5062b9fa216b2f47e3577192f3f58e39d6663fb6"
      },
      "cell_type": "code",
      "source": "planets = ['Mercury', 'Venus', 'Earth', 'Mars', 'Jupiter', 'Saturn', 'Uranus', 'Neptune']",
      "execution_count": null,
      "outputs": []
    },
    {
      "metadata": {
        "_uuid": "2b9814ab2037fa8efeeaa608c9e16f58fe549103"
      },
      "cell_type": "markdown",
      "source": "Including other lists:"
    },
    {
      "metadata": {
        "trusted": true,
        "collapsed": true,
        "_uuid": "d21111017f0b16a542120690c9039a0d3335b7e9"
      },
      "cell_type": "code",
      "source": "hands = [\n    ['J', 'Q', 'K'],\n    ['2', '2', '2'],\n    ['6', 'A', 'K'], # (Comma after the last element is optional)\n]\n# (I could also have written this on one line, but it can get hard to read)\nhands = [['J', 'Q', 'K'], ['2', '2', '2'], ['6', 'A', 'K']]",
      "execution_count": null,
      "outputs": []
    },
    {
      "metadata": {
        "_uuid": "b7522ef690ceb8d14093ca23b51110092ad0c438"
      },
      "cell_type": "markdown",
      "source": "A list can contain a mix of different types:"
    },
    {
      "metadata": {
        "trusted": true,
        "collapsed": true,
        "_uuid": "c7406e3c3283a9c27040718f608020d4fcbca26a"
      },
      "cell_type": "code",
      "source": "my_favourite_things = [32, 'raindrops on roses', help]\n# (Yes, Python's help function is *definitely* one of my favourite things)",
      "execution_count": null,
      "outputs": []
    },
    {
      "metadata": {
        "_cell_guid": "17963e60-9972-47e4-ae62-921af6a40caf",
        "_uuid": "34cfd9b7bfa010c3808418f383e4afc6935c2e28"
      },
      "cell_type": "markdown",
      "source": "## Indexing\n\nWe can access individual list elements using Python's square bracket indexing syntax.\n\nWhich planet is closest to the sun? Python uses *zero-based* indexing, so the first element has index 0."
    },
    {
      "metadata": {
        "_cell_guid": "639bedf6-b3a7-4f90-9c67-69e25e7d9e69",
        "_uuid": "0a1c04a5c59adc342a3bd4b6adf1e21935f656af",
        "trusted": true,
        "collapsed": true
      },
      "cell_type": "code",
      "source": "planets[0]",
      "execution_count": null,
      "outputs": []
    },
    {
      "metadata": {
        "_cell_guid": "c4afeb73-8440-44ac-a4c7-81462e339511",
        "_uuid": "6663065fa883a6fb71cdcea2cfdf3daa7e00bb46"
      },
      "cell_type": "markdown",
      "source": "What's the next closest planet?"
    },
    {
      "metadata": {
        "_cell_guid": "e58fd1dd-2a35-424a-8743-0ad08bd5e843",
        "_uuid": "f1ca1fc327bb449cdc08fa9ec252283b00af5f4f",
        "trusted": true,
        "collapsed": true
      },
      "cell_type": "code",
      "source": "planets[1]",
      "execution_count": null,
      "outputs": []
    },
    {
      "metadata": {
        "_cell_guid": "9aaf7e0f-2947-4079-a1f0-b6aecceeac62",
        "_uuid": "dd4e4d5fb660aeba1f7fe2332fff41849fe138e0"
      },
      "cell_type": "markdown",
      "source": "Which planet is *furthest* from the sun?\n\nElements at the end of the list can be accessed with negative numbers, starting from -1:"
    },
    {
      "metadata": {
        "_cell_guid": "eb587f62-a2d1-4fae-b3b7-59ccd75b3d3f",
        "_uuid": "af5e27cf959cb9ffc6ab3815c0fffbcbc7e81214",
        "trusted": true,
        "collapsed": true
      },
      "cell_type": "code",
      "source": "planets[-1]",
      "execution_count": null,
      "outputs": []
    },
    {
      "metadata": {
        "_cell_guid": "7faa61ae-a289-47f7-b890-96d56a605376",
        "_uuid": "a11991a9021359a22c450eada89f07c63b385e78",
        "trusted": true,
        "collapsed": true
      },
      "cell_type": "code",
      "source": "planets[-2]",
      "execution_count": null,
      "outputs": []
    },
    {
      "metadata": {
        "_cell_guid": "443b6b7e-0b0e-4014-a22e-f355b29cdbfb",
        "_uuid": "4d1f6d1dde7a1500d9368f3fd74c94a7e8b1cd46"
      },
      "cell_type": "markdown",
      "source": "## Slicing\n\nWhat are the first three planets? We can answer this question using *slicing*:"
    },
    {
      "metadata": {
        "trusted": true,
        "_uuid": "81edda6f48df00ae1a0f30bd87ffb486a1227864",
        "collapsed": true
      },
      "cell_type": "code",
      "source": "planets[0:3]",
      "execution_count": null,
      "outputs": []
    },
    {
      "metadata": {
        "_uuid": "559e75b3aee44132f0e1cefee9cd9d1d5fc7e817"
      },
      "cell_type": "markdown",
      "source": "`planets[0:3]` is our way of asking Python for the elements of `planets` starting from index 0 and continuing up to *but not including* index 3.\n\nThe starting and ending indices are both optional. If I leave out the start index, it's assumed to be 0. So I could rewrite the expression above as:"
    },
    {
      "metadata": {
        "trusted": true,
        "_uuid": "9e7209a813fc6e26c767490def34522f45b8754c",
        "collapsed": true
      },
      "cell_type": "code",
      "source": "planets[:3]",
      "execution_count": null,
      "outputs": []
    },
    {
      "metadata": {
        "_uuid": "64bc80c036defd4e82b805ed219aac57250a1110"
      },
      "cell_type": "markdown",
      "source": "If I leave out the end index, it's assumed to be the length of the list."
    },
    {
      "metadata": {
        "trusted": true,
        "_uuid": "57af1cdc798355adcfd524fee94ad9bb937a2433",
        "collapsed": true
      },
      "cell_type": "code",
      "source": "planets[3:]",
      "execution_count": null,
      "outputs": []
    },
    {
      "metadata": {
        "_uuid": "ea7ea5821a07597071b362f3926e35575c36200b"
      },
      "cell_type": "markdown",
      "source": "i.e. the expression above means \"give me all the planets from index 3 onward\".\n\nWe can also use negative indices when slicing:"
    },
    {
      "metadata": {
        "trusted": true,
        "_uuid": "03cce60a2d6ba7be81c3e8e2d3ed0f306d3c50d1",
        "collapsed": true
      },
      "cell_type": "code",
      "source": "# All the planets except the first and last\nplanets[1:-1]",
      "execution_count": null,
      "outputs": []
    },
    {
      "metadata": {
        "trusted": true,
        "_uuid": "b191607345a299663971bd6e04c2c6a2a6086e5e",
        "collapsed": true
      },
      "cell_type": "code",
      "source": "# The last 3 planets\nplanets[-3:]",
      "execution_count": null,
      "outputs": []
    },
    {
      "metadata": {
        "_cell_guid": "4ad2a5ee-b9c1-4daf-ae97-0c5c584a7815",
        "_uuid": "8d1276414f049b362672877503292605c72b34e9"
      },
      "cell_type": "markdown",
      "source": "<!-- TODO: include third 'step size' slice argument and its use for reversing? -->\n\n## Mutating lists\n\nLists are mutable, meaning they can be modified \"in place\".\n\nOne way to modify a list is to assign to an index or slice expression.\n\nFor example, let's say we want to rename Mars:"
    },
    {
      "metadata": {
        "trusted": true,
        "_uuid": "832dcf915ffc544b2e08d18fa5e1132a7f0db352",
        "collapsed": true
      },
      "cell_type": "code",
      "source": "planets[3] = 'Malacandra'\nplanets",
      "execution_count": null,
      "outputs": []
    },
    {
      "metadata": {
        "_uuid": "53733f14573e7197caabbd3e4ca851ae6df1ed42"
      },
      "cell_type": "markdown",
      "source": "Hm, that's quite a mouthful. Let's compensate by shortening the names of the first 3 planets."
    },
    {
      "metadata": {
        "trusted": true,
        "_uuid": "85c5e13768aa9483869411495f6904bffa4cd96e",
        "collapsed": true
      },
      "cell_type": "code",
      "source": "planets[:3] = ['Mur', 'Vee', 'Ur']\nprint(planets)\n# (Okay, that was rather silly. Let's give them back their old names)\nplanets[:4] = ['Mercury', 'Venus', 'Earth', 'Mars',]",
      "execution_count": null,
      "outputs": []
    },
    {
      "metadata": {
        "_uuid": "9bcfd16d08efc1484316b3bd5d40e67e73d1e77d"
      },
      "cell_type": "markdown",
      "source": "## List functions\n\nPython has several useful builtin functions for working with lists.\n\n`len` gives the length of a list:"
    },
    {
      "metadata": {
        "trusted": true,
        "_uuid": "d85793b1fe14aa4b2318acd413c47387d8d7589e",
        "collapsed": true
      },
      "cell_type": "code",
      "source": "# How many planets are there?\nlen(planets)",
      "execution_count": null,
      "outputs": []
    },
    {
      "metadata": {
        "_uuid": "1f1cd49fd98a80ca1d43c48c287faf2512da0918"
      },
      "cell_type": "markdown",
      "source": "`sorted` returns a sorted version of a list:"
    },
    {
      "metadata": {
        "trusted": true,
        "_uuid": "d587b16b2a9efa5ea8f8808c8cedd59693e9ce1a",
        "collapsed": true
      },
      "cell_type": "code",
      "source": "# The planets sorted in alphabetical order\nsorted(planets)",
      "execution_count": null,
      "outputs": []
    },
    {
      "metadata": {
        "_uuid": "e8b6bc0d72ed896f53c8643ef1598be83486a146"
      },
      "cell_type": "markdown",
      "source": "`sum` does what you might expect:"
    },
    {
      "metadata": {
        "trusted": true,
        "_uuid": "d3fe26a64814c83557187e0cfa1fd54b09e5de80",
        "collapsed": true
      },
      "cell_type": "code",
      "source": "primes = [2, 3, 5, 7]\nsum(primes)",
      "execution_count": null,
      "outputs": []
    },
    {
      "metadata": {
        "_uuid": "7f4c85da896aac52ce4522e665b2a0e6fa399471"
      },
      "cell_type": "markdown",
      "source": "We've previously used the `min` and `max` to get the minimum or maximum of several arguments. But we can also pass in a single list argument."
    },
    {
      "metadata": {
        "trusted": true,
        "_uuid": "d87b94563e670831fa0ba27148996a1e59eff291",
        "collapsed": true
      },
      "cell_type": "code",
      "source": "max(primes)",
      "execution_count": null,
      "outputs": []
    },
    {
      "metadata": {
        "_uuid": "94b91016c1b0df3baa86a3272147b222443b22f4"
      },
      "cell_type": "markdown",
      "source": "## Interlude: objects\n\nI've been throwing around the term 'object' a lot so far - you may even remember me claiming that *everything* in Python is an object. But what does that actually mean?\n\nIn short, objects carry some stuff around with them. We can access that stuff using Python's dot syntax.\n\nFor example, numbers in Python carry around an associated variable called `imag` representing their imaginary part. (You'll probably never need to use this unless you're doing some very weird math.)"
    },
    {
      "metadata": {
        "trusted": true,
        "_uuid": "cacc37588997242d456bdc24219acf441532c7b7",
        "collapsed": true
      },
      "cell_type": "code",
      "source": "x = 12\n# x is a real number, so its imaginary part is 0.\nprint(x.imag)\n# Here's how to make a complex number, in case you've ever been curious:\nc = 12 + 3j\nprint(c.imag)",
      "execution_count": null,
      "outputs": []
    },
    {
      "metadata": {
        "_cell_guid": "b912792a-4c38-4dae-bc21-ba5376361495",
        "_uuid": "4280248027b14dd9fb1bba3e197976a046416504"
      },
      "cell_type": "markdown",
      "source": "The things an object carries around can also include functions. A function attached to an object is called a **method**. (Non-function things attached to an object, such as `imag`, are called *attributes*).\n\nFor example, numbers have a method called `bit_length`. Again, we access it using dot syntax:"
    },
    {
      "metadata": {
        "trusted": true,
        "_uuid": "9e85e60646ad8ea901f395d8549d007dd0a439e1",
        "collapsed": true
      },
      "cell_type": "code",
      "source": "x.bit_length",
      "execution_count": null,
      "outputs": []
    },
    {
      "metadata": {
        "_uuid": "71af0b0fa78a183bfcf623b200e3dfc7ff1a97f6"
      },
      "cell_type": "markdown",
      "source": "To actually call it, we add parentheses:"
    },
    {
      "metadata": {
        "trusted": true,
        "_uuid": "8a18b482e249eb5e3e4f234338f0c86553847f2e",
        "collapsed": true
      },
      "cell_type": "code",
      "source": "x.bit_length()",
      "execution_count": null,
      "outputs": []
    },
    {
      "metadata": {
        "_uuid": "fa910203144d87435a6babd6554ca0f294087a1e"
      },
      "cell_type": "markdown",
      "source": "> **Aside:** You've actually been calling methods for the last few days if you've been doing the exercises. In the exercise notebooks `q1`, `q2`, `q3`, etc. are all objects which have methods called `check`, `hint`, and `solution`.\n\nIn the same way that we can pass functions to the `help` function (e.g. `help(max)`), we can also pass in methods:"
    },
    {
      "metadata": {
        "trusted": true,
        "_uuid": "d2030cd8f3a23cc6e250c9b84d4db07a54ffaf0c",
        "collapsed": true
      },
      "cell_type": "code",
      "source": "help(x.bit_length)",
      "execution_count": null,
      "outputs": []
    },
    {
      "metadata": {
        "_uuid": "637912d256ae42af3da8daea253e257b87962e8a"
      },
      "cell_type": "markdown",
      "source": "<!-- TODO:\ndir?\nA useful builtin method for interacting with objects is `dir`. `dir` asks: what are the names of all the things (methods, and attributes) that this object is carrying around?\nhelp(x)?\n-->\n\nThe examples above were utterly obscure. None of the types of objects we've looked at so far (numbers, functions, booleans) have attributes or methods you're likely ever to use.\n\nBut it turns out that lists have several methods which you'll use all the time."
    },
    {
      "metadata": {
        "_uuid": "ca3352ec7307fe38280497f7e5b34b6ec8124f8b"
      },
      "cell_type": "markdown",
      "source": "## List methods"
    },
    {
      "metadata": {
        "_uuid": "f9f88b264864ff87973edc995f4bdbb9e9099e08"
      },
      "cell_type": "markdown",
      "source": "`list.append` modifies a list by adding an item to the end:"
    },
    {
      "metadata": {
        "_cell_guid": "d79383d5-196d-4aa5-8c38-113074fd5e55",
        "_uuid": "2f8b29be8e4f38bd89414a3af21dbd937c93f6f3",
        "trusted": true,
        "collapsed": true
      },
      "cell_type": "code",
      "source": "# Pluto is a planet darn it!\nplanets.append('Pluto')",
      "execution_count": null,
      "outputs": []
    },
    {
      "metadata": {
        "_uuid": "6db1e9a7f7d750cee05aa96c56027c12fcb9914d"
      },
      "cell_type": "markdown",
      "source": "Why does the cell above have no output? Let's check the documentation by calling `help(planets.append)`.\n\n> **Aside:** `append` is a method carried around by *all* objects of type list, not just `planets`, so we also could have called `help(list.append)`. However, if we try to call `help(append)`, Python will complain that no variable exists called \"append\". The \"append\" name only exists within lists - it doesn't exist as a standalone name like builtin functions such as `max` or `len`."
    },
    {
      "metadata": {
        "trusted": true,
        "_uuid": "12ed14d61d43db99cff904327d6154311af5e6b7",
        "collapsed": true
      },
      "cell_type": "code",
      "source": "help(planets.append)",
      "execution_count": null,
      "outputs": []
    },
    {
      "metadata": {
        "_uuid": "0861319a7a401d86f65f995153a5553185f05482"
      },
      "cell_type": "markdown",
      "source": "The `-> None` part is telling us that `list.append` doesn't return anything. But if we check the value of `planets`, we can see that the method call modified the value of `planets`:"
    },
    {
      "metadata": {
        "trusted": true,
        "_uuid": "c26fbfeb555aa73331a3e42b69cd7f38ca72f21a",
        "collapsed": true
      },
      "cell_type": "code",
      "source": "planets",
      "execution_count": null,
      "outputs": []
    },
    {
      "metadata": {
        "_cell_guid": "c04f3e6e-a487-4925-b8a5-717bb58ffa86",
        "_uuid": "a96cd7005e66d8e6bee32e8c72dd56f2446e6a08",
        "collapsed": true
      },
      "cell_type": "markdown",
      "source": "`list.pop` removes and returns the last element of a list:"
    },
    {
      "metadata": {
        "trusted": true,
        "_uuid": "c084dc1b4cabc950d2296bcbc0c18b6e847c46df",
        "collapsed": true
      },
      "cell_type": "code",
      "source": "planets.pop()",
      "execution_count": null,
      "outputs": []
    },
    {
      "metadata": {
        "trusted": true,
        "_uuid": "1c242e373954915d344e8301d2e7e61a0b2f40c7",
        "collapsed": true
      },
      "cell_type": "code",
      "source": "planets",
      "execution_count": null,
      "outputs": []
    },
    {
      "metadata": {
        "_cell_guid": "6d6dd84a-e572-4664-aeb2-2bc4cb81d803",
        "_uuid": "40e00597f23cf3f774c786a5ae3f4bf08186b48f"
      },
      "cell_type": "markdown",
      "source": "### Searching lists\n\nWhere does Earth fall in the order of planets? We can get its index using the `list.index` method."
    },
    {
      "metadata": {
        "trusted": true,
        "_uuid": "845af3776bb32d977c7d6c992d57c5c8d52847f5",
        "collapsed": true
      },
      "cell_type": "code",
      "source": "planets.index('Earth')",
      "execution_count": null,
      "outputs": []
    },
    {
      "metadata": {
        "_uuid": "b45f56562e113573adf763d612dd24349b1dde22"
      },
      "cell_type": "markdown",
      "source": "It comes third (i.e. at index 2 - 0 indexing!).\n\nAt what index does Pluto occur?"
    },
    {
      "metadata": {
        "trusted": true,
        "_uuid": "01508b74ae8a0de2793bd0c806062e720b3517c6",
        "collapsed": true
      },
      "cell_type": "code",
      "source": "planets.index('Pluto')",
      "execution_count": null,
      "outputs": []
    },
    {
      "metadata": {
        "_uuid": "1c5a91fc6f9ddedf49135f2c8697146318f1a484"
      },
      "cell_type": "markdown",
      "source": "Oh, that's right...\n\nTo avoid unpleasant surprises like this, we can use the `in` operator to determine whether a list contains a particular value:"
    },
    {
      "metadata": {
        "trusted": true,
        "collapsed": true,
        "_uuid": "f1aeeb03d73e3f222bb312e29a3fd5bcef66e351"
      },
      "cell_type": "code",
      "source": "# Is Earth a planet?\n\"Earth\" in planets",
      "execution_count": null,
      "outputs": []
    },
    {
      "metadata": {
        "trusted": true,
        "collapsed": true,
        "_uuid": "c0d566e607626c39d46e81028bf205ecfa98d136"
      },
      "cell_type": "code",
      "source": "# Is Calbefraques a planet?\n\"Calbefraques\" in planets",
      "execution_count": null,
      "outputs": []
    },
    {
      "metadata": {
        "_uuid": "40396e8099da54f84ecbf61df773fb2e0f4d6277"
      },
      "cell_type": "markdown",
      "source": "There are a few more interesting list methods we haven't covered. If you want to learn about all the methods and attributes attached to a particular object, we can call `help()` on the object itself. For example, `help(planets)` will tell us about *all* the list methods: "
    },
    {
      "metadata": {
        "_kg_hide-output": true,
        "trusted": true,
        "_uuid": "9833380cc8b173be39438302e9967f5a38b4aa1b",
        "collapsed": true
      },
      "cell_type": "code",
      "source": "help(planets)",
      "execution_count": null,
      "outputs": []
    },
    {
      "metadata": {
        "_uuid": "255c6265ced0d24e8b55b754f1cd516769d7fbe2"
      },
      "cell_type": "markdown",
      "source": "Click the \"output\" button to see the full help page. Lists have lots of methods with weird-looking names like `__eq__` and `__iadd__`. Don't worry too much about these for now. (You'll probably never call such methods directly. But they get called behind the scenes when we use syntax like indexing or comparison operators.) The most interesting methods are toward the bottom of the list (`append`, `clear`, `copy`, etc.)."
    },
    {
      "metadata": {
        "_cell_guid": "f7db8275-f86c-4ed0-b130-953a2828137f",
        "_uuid": "4912df7272944136a0a6e73adb2583696ce79f29"
      },
      "cell_type": "markdown",
      "source": "## Tuples\n\nTuples are almost exactly the same as lists. They differ in just two ways.\n\n**1:** The syntax for creating them uses (optional) parentheses rather than square brackets"
    },
    {
      "metadata": {
        "_cell_guid": "7754d7d0-0e8f-4c9d-aaa2-5da119cee4b7",
        "_uuid": "41d1b9c9d53c6e14ac3ca1b8a4dd52ecd29b1ba1",
        "trusted": true,
        "collapsed": true
      },
      "cell_type": "code",
      "source": "t = (1, 2, 3)",
      "execution_count": null,
      "outputs": []
    },
    {
      "metadata": {
        "trusted": true,
        "_uuid": "14c8224e8322c2ba205cd8b7dc7ee01653132072",
        "collapsed": true
      },
      "cell_type": "code",
      "source": "t = 1, 2, 3 # equivalent to above\nt",
      "execution_count": null,
      "outputs": []
    },
    {
      "metadata": {
        "_uuid": "eb41827a4175c74b130f956bb1d5376426ca4225"
      },
      "cell_type": "markdown",
      "source": "**2:** They cannot be modified (they are *immutable*)."
    },
    {
      "metadata": {
        "trusted": true,
        "_uuid": "fe3f75ad11ca198de395397e76947db4d6018d60",
        "collapsed": true
      },
      "cell_type": "code",
      "source": "t[0] = 100",
      "execution_count": null,
      "outputs": []
    },
    {
      "metadata": {
        "_uuid": "737f6406a2cd818a7fef628e398e24ff43b315ed"
      },
      "cell_type": "markdown",
      "source": "Tuples are often used for functions that have multiple return values.\n\nFor example, the ``as_integer_ratio()`` method of float objects returns a numerator and a denominator in the form of a tuple:"
    },
    {
      "metadata": {
        "trusted": true,
        "_uuid": "58f734cb0218cf4ff6e510cd90d08c0dad373518",
        "collapsed": true
      },
      "cell_type": "code",
      "source": "x = 0.125\nx.as_integer_ratio()",
      "execution_count": null,
      "outputs": []
    },
    {
      "metadata": {
        "_uuid": "46c4142a0f848969571481563e2608b7e7dd5d00"
      },
      "cell_type": "markdown",
      "source": "These multiple return values can be individually assigned as follows:"
    },
    {
      "metadata": {
        "trusted": true,
        "_uuid": "3c7cadb86fbbf9f97489aca032e709f4597baccf",
        "collapsed": true
      },
      "cell_type": "code",
      "source": "numerator, denominator = x.as_integer_ratio()\nprint(numerator / denominator)",
      "execution_count": null,
      "outputs": []
    },
    {
      "metadata": {
        "_uuid": "56a7e2eb64b08943e89030c11b684621ad8f8055"
      },
      "cell_type": "markdown",
      "source": "Finally we have some insight into the classic Stupid Python Trick™ for swapping two variables!"
    },
    {
      "metadata": {
        "trusted": true,
        "_uuid": "5321ff1dfc83bcd9fa18a3e26c57eb430bd0bd8d",
        "collapsed": true
      },
      "cell_type": "code",
      "source": "a = 1\nb = 0\na, b = b, a\nprint(a, b)",
      "execution_count": null,
      "outputs": []
    },
    {
      "metadata": {
        "_cell_guid": "40a4cc17-d703-4ce1-bd6e-94d646117bda",
        "_uuid": "15fa4434896c2060fcdb4a9b300a113d936a2e84"
      },
      "cell_type": "markdown",
      "source": "\n\n# Your turn!\n\nHead over to [the Exercises notebook](https://www.kaggle.com/kernels/fork/961685) to get some hands-on practice working with lists."
    }
  ],
  "metadata": {
    "anaconda-cloud": {},
    "kernelspec": {
      "display_name": "Python 3",
      "language": "python",
      "name": "python3"
    },
    "language_info": {
      "name": "python",
      "version": "3.6.5",
      "mimetype": "text/x-python",
      "codemirror_mode": {
        "name": "ipython",
        "version": 3
      },
      "pygments_lexer": "ipython3",
      "nbconvert_exporter": "python",
      "file_extension": ".py"
    }
  },
  "nbformat": 4,
  "nbformat_minor": 1
}