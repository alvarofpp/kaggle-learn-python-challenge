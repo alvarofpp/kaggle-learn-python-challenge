{
  "cells": [
    {
      "metadata": {
        "_uuid": "5ef43e6d843568746ce46bfeb3b78947e5b597e9"
      },
      "cell_type": "markdown",
      "source": "Welcome to the exercises for day 5 (these accompany the day 5 tutorial notebook on [loops](https://www.kaggle.com/colinmorris/learn-python-challenge-day-5))\n\nAs always, run the setup code below before working on the questions (and if you leave this notebook and come back later, remember to run the setup code again)."
    },
    {
      "metadata": {
        "trusted": true,
        "_uuid": "04263b1cb2617f875cb3e924bf2ef0413035b59d",
        "collapsed": true
      },
      "cell_type": "code",
      "source": "# SETUP. You don't need to worry for now about what this code does or how it works. If you're ever curious about the \n# code behind these exercises, it's available under an open source license here: https://github.com/Kaggle/learntools/\nimport sys; sys.path.insert(0, '../input/learntools/pseudo_learntools')\nfrom learntools.python import binder; binder.bind(globals())\nfrom learntools.python.ex5 import *\nprint('Setup complete.')",
      "execution_count": null,
      "outputs": []
    },
    {
      "metadata": {
        "_uuid": "67d2ceb49f0680f6e202a624a34bcb3a838f73c7"
      },
      "cell_type": "markdown",
      "source": "# Exercises"
    },
    {
      "metadata": {
        "_uuid": "da9ff0f340102caa7642dcecb0f4e7447d41cc8b"
      },
      "cell_type": "markdown",
      "source": "## 1.\n\nHave you ever felt debugging involved a bit of luck? The following program has a bug. Try to identify the bug and fix it."
    },
    {
      "metadata": {
        "trusted": true,
        "collapsed": true,
        "_uuid": "bb5eb4ac7e0542a02548fe2898cc6ca67c012f84"
      },
      "cell_type": "code",
      "source": "def has_lucky_number(nums):\n    \"\"\"Return whether the given list of numbers is lucky. A lucky list contains\n    at least one number divisible by 7.\n    \"\"\"\n    for num in nums:\n        if num % 7 == 0:\n            return True\n        else:\n            return False",
      "execution_count": null,
      "outputs": []
    },
    {
      "metadata": {
        "_uuid": "6013261fe13b3b3401cbcf44857ba8d87f7eb277"
      },
      "cell_type": "markdown",
      "source": "Try to identify the bug and fix it in the cell below:"
    },
    {
      "metadata": {
        "trusted": true,
        "_uuid": "03f912bc5229ff2b98b094ec4fcfb4328601a741",
        "collapsed": true
      },
      "cell_type": "code",
      "source": "def has_lucky_number(nums):\n    \"\"\"Return whether the given list of numbers is lucky. A lucky list contains\n    at least one number divisible by 7.\n    \"\"\"\n    for num in nums:\n        if num % 7 == 0:\n            return True\n        else:\n            return False\n\nq1.check()",
      "execution_count": null,
      "outputs": []
    },
    {
      "metadata": {
        "collapsed": true,
        "trusted": true,
        "_uuid": "5dc4fbed194ebb1c769ada00f4a9e30dcdf74820"
      },
      "cell_type": "code",
      "source": "#q1.hint()\n#q1.solution()",
      "execution_count": null,
      "outputs": []
    },
    {
      "metadata": {
        "_uuid": "bed33d3fc81158b22a2b9bcb8b923d08f8b5212f"
      },
      "cell_type": "markdown",
      "source": "## 2.\n\n### a.\nLook at the Python expression below. What do you think we'll get when we run it? When you've made your prediction, uncomment the code and run the cell to see if you were right."
    },
    {
      "metadata": {
        "trusted": true,
        "_uuid": "b775dfd8cd2d71d794cb940e043d0b5dbec90033",
        "collapsed": true
      },
      "cell_type": "code",
      "source": "#[1, 2, 3, 4] > 2",
      "execution_count": null,
      "outputs": []
    },
    {
      "metadata": {
        "_uuid": "219dcb13681afbd94e88104a1b1521e6156c3136"
      },
      "cell_type": "markdown",
      "source": "### b\nIf you’ve used R or certain Python libraries like numpy or pandas, you might have expected that when we ran the above code, Python would compare each element of the list to 2 (i.e. do an 'element-wise' comparison) and give us a list of booleans like `[False, False, True, True]`. \n\nImplement a function that reproduces this behaviour, returning a list of booleans corresponding to whether the corresponding element is greater than n.\n"
    },
    {
      "metadata": {
        "trusted": true,
        "_uuid": "6c1fc0fadcbe630730504f4493eb2ddc9d118b67",
        "collapsed": true
      },
      "cell_type": "code",
      "source": "def elementwise_greater_than(L, thresh):\n    \"\"\"Return a list with the same length as L, where the value at index i is \n    True if L[i] is greater than thresh, and False otherwise.\n    \n    >>> elementwise_greater_than([1, 2, 3, 4], 2)\n    [False, False, True, True]\n    \"\"\"\n    pass\n\nq2.check()",
      "execution_count": null,
      "outputs": []
    },
    {
      "metadata": {
        "collapsed": true,
        "trusted": true,
        "_uuid": "13cf99bb6def742c8ae5392d6676a78beb11933e"
      },
      "cell_type": "code",
      "source": "#q2.solution()",
      "execution_count": null,
      "outputs": []
    },
    {
      "metadata": {
        "_uuid": "87825b1a56d99c8adf44b8f3bd71c1e0178fd891"
      },
      "cell_type": "markdown",
      "source": "## 3.\n\nComplete the body of the function below according to its docstring"
    },
    {
      "metadata": {
        "trusted": true,
        "_uuid": "3601c6d7106518b2d3b239eb3d3fc1c1baf0ddf1",
        "collapsed": true
      },
      "cell_type": "code",
      "source": "def menu_is_boring(meals):\n    \"\"\"Given a list of meals served over some period of time, return True if the\n    same meal has ever been served two days in a row, and False otherwise.\n    \"\"\"\n    pass\n\nq3.check()",
      "execution_count": null,
      "outputs": []
    },
    {
      "metadata": {
        "collapsed": true,
        "trusted": true,
        "_uuid": "9c9428eb6393d33dee43ddb1472359ef9d3243bc"
      },
      "cell_type": "code",
      "source": "#q3.hint()\n#q3.solution()",
      "execution_count": null,
      "outputs": []
    },
    {
      "metadata": {
        "_uuid": "a4e2d9d75f631790d89bd5e461b211e3169b1325"
      },
      "cell_type": "markdown",
      "source": "## 4. <span title=\"A bit spicy\" style=\"color: darkgreen \">🌶️</span>\n\nNext to the Blackjack table, the Python Challenge Casino has a slot machine. You can get a result from the slot machine by calling `play_slot_machine()`. The number it returns is your winnings in dollars. Usually it returns 0.  But sometimes you'll get lucky and get a big payday. Try running it below:"
    },
    {
      "metadata": {
        "trusted": true,
        "_uuid": "1f4b72c0c9ea0754e8eac047af0ef49c40e8c841",
        "collapsed": true
      },
      "cell_type": "code",
      "source": "play_slot_machine()",
      "execution_count": null,
      "outputs": []
    },
    {
      "metadata": {
        "_uuid": "d3c71619b8b84dab7c6c2f9b9d08961a1bf848e5"
      },
      "cell_type": "markdown",
      "source": "By the way, did we mention that each play costs $1? Don't worry, we'll send you the bill later.\n\nOn average, how much money can you expect to gain (or lose) every time you play the machine?  The casino keeps it a secret, but you can estimate the average value of each pull using a technique called the **Monte Carlo method**. To estimate the average outcome, we simulate the scenario many times, and return the average result.\n\nComplete the following function to calculate the average value per play of the slot machine."
    },
    {
      "metadata": {
        "collapsed": true,
        "trusted": true,
        "_uuid": "cc432feeca74256518b09958b4da34da1333eacf"
      },
      "cell_type": "code",
      "source": "def estimate_average_slot_payout(n_runs):\n    \"\"\"Run the slot machine n_runs times and return the average net profit per run.\n    Example calls (note that return value is nondeterministic!):\n    >>> estimate_average_slot_payout(1)\n    -1\n    >>> estimate_average_slot_payout(1)\n    0.5\n    \"\"\"\n    pass",
      "execution_count": null,
      "outputs": []
    },
    {
      "metadata": {
        "_uuid": "180798dd555a031939f30ad50846c4baf88a2722"
      },
      "cell_type": "markdown",
      "source": "When you think you know the expected value per spin, uncomment the line below to see how close you were."
    },
    {
      "metadata": {
        "collapsed": true,
        "trusted": true,
        "_uuid": "e536470ec410abc296108d239426019b05d7e630"
      },
      "cell_type": "code",
      "source": "#q4.solution()",
      "execution_count": null,
      "outputs": []
    },
    {
      "metadata": {
        "_uuid": "f7b20895a5c2b2e703d383e4023265b2e7622560"
      },
      "cell_type": "markdown",
      "source": "## 5. <span title=\"Spicy\" style=\"color: coral\">🌶️🌶️</span>\n\nGary wants to know how many spins he can play before running out of money. (Remember, each turn at the slot machine costs $1.)\n\nSo, if he has $10, he can definitely play 10 spins (because he'll have enough money to pay for the 10th spin even if he never wins). But he could only play an 11th spin if his total winnings from the first 10 was enough to pay for the 11th spin. How likely is that?\n\nYou will estimate the probability with the Monte Carlo method. That is, you will simulate the scenario many times, and return the proportion of simulations where he ran out of money before a desired number of spins. \n\nComplete the function below to estimate the probability that he can complete a given number of spins of the machine before running out of money."
    },
    {
      "metadata": {
        "trusted": true,
        "_uuid": "87d7ef394ac256a86f1f85dd197fe606b8733494",
        "collapsed": true
      },
      "cell_type": "code",
      "source": "def slots_survival_probability(start_balance, n_spins, n_simulations):\n    \"\"\"Return the approximate probability (as a number between 0 and 1) that we can complete the \n    given number of spins of the slot machine before running out of money, assuming we start \n    with the given balance. Estimate the probability by running the scenario the specified number of times.\n    \n    >>> slots_survival_probability(10.00, 10, 1000)\n    1.0\n    >>> slots_survival_probability(1.00, 2, 1000)\n    .25\n    \"\"\"\n    pass\n\nq5.check()",
      "execution_count": null,
      "outputs": []
    },
    {
      "metadata": {
        "trusted": true,
        "_uuid": "e2ec58239841c03cda8467bb1a584ae7ef791020",
        "collapsed": true
      },
      "cell_type": "code",
      "source": "#q5.solution()",
      "execution_count": null,
      "outputs": []
    },
    {
      "metadata": {
        "_uuid": "73f4277c36d9a87ccfa51d752c9a53e7385ebf49"
      },
      "cell_type": "markdown",
      "source": "That's it! You've played blackjack and slots so far. The [forum](https://kaggle.com/learn-forum) was created for questions and feedback, but you can also use it to wager on what casino games we'll introduce next.\n\nWant feedback on your code? To share it with others or ask for help, you'll need to make it public. Save a version of your notebook that shows your current work by hitting the \"Commit & Run\" button. Once your notebook is finished running, go to the Settings tab in the panel to the left (you may have to expand it by hitting the [<] button next to the \"Commit & Run\" button) and set the \"Visibility\" dropdown to \"Public\"."
    }
  ],
  "metadata": {
    "kernelspec": {
      "display_name": "Python 3",
      "language": "python",
      "name": "python3"
    },
    "language_info": {
      "name": "python",
      "version": "3.6.5",
      "mimetype": "text/x-python",
      "codemirror_mode": {
        "name": "ipython",
        "version": 3
      },
      "pygments_lexer": "ipython3",
      "nbconvert_exporter": "python",
      "file_extension": ".py"
    }
  },
  "nbformat": 4,
  "nbformat_minor": 1
}