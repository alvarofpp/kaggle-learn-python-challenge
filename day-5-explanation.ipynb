{
  "cells": [
    {
      "metadata": {
        "_cell_guid": "addbec76-fa81-42d3-8e68-733ee35c2879",
        "_uuid": "621c63fece334b3d513c773cdc97097403fdf6c5"
      },
      "cell_type": "markdown",
      "source": "Welcome to day 5 of the Python Challenge! If you missed any of the previous days, here are the links:\n\n- [Day 1 (syntax, variable assignment, numbers)](https://www.kaggle.com/colinmorris/learn-python-challenge-day-1)\n- [Day 2 (functions and getting help)](https://www.kaggle.com/colinmorris/learn-python-challenge-day-2)\n- [Day 3 (booleans and conditionals)](https://www.kaggle.com/colinmorris/learn-python-challenge-day-3)\n- [Day 4 (lists and objects)](https://www.kaggle.com/colinmorris/learn-python-challenge-day-4)\n\nToday we'll be talking about **loops**.\n\n\nLoops are a way to repeatedly execute some code statement."
    },
    {
      "metadata": {
        "_cell_guid": "73db7eec-370d-45f7-9d9f-e4f659ca35bb",
        "_uuid": "ba63ef38e32cadde643affebd9802b96acf598a7",
        "trusted": false,
        "collapsed": true
      },
      "cell_type": "code",
      "source": "planets = ['Mercury', 'Venus', 'Earth', 'Mars', 'Jupiter', 'Saturn', 'Uranus', 'Neptune']\nfor planet in planets:\n    print(planet, end=' ') # print all on same line",
      "execution_count": null,
      "outputs": []
    },
    {
      "metadata": {
        "_cell_guid": "4c3c8b80-a607-4c98-8425-4499693d29d0",
        "_uuid": "e0c93fa3969782736bf316f1c4e796e5397f89e0"
      },
      "cell_type": "markdown",
      "source": "Notice the simplicity of the ``for`` loop: we specify the variable we want to use, the sequence we want to loop over, and use the \"``in``\" keyword to link them together in an intuitive and readable way.\n\nThe object to the right of the \"``in``\" can be any object that supports iteration. Basically, if it can be thought of as a sequence or collection of things, you can probably loop over it. In addition to lists, we can iterate over the elements of a tuple:"
    },
    {
      "metadata": {
        "_cell_guid": "f84ce70d-a30e-49df-a9b4-d0ada2efaf57",
        "_uuid": "94f4ba534a4315fcf36e8de5c5a73159934535af",
        "trusted": false,
        "collapsed": true
      },
      "cell_type": "code",
      "source": "multiplicands = (2, 2, 2, 3, 3, 5)\nproduct = 1\nfor mult in multiplicands:\n    product = product * mult\nproduct",
      "execution_count": null,
      "outputs": []
    },
    {
      "metadata": {
        "_cell_guid": "75bf32f6-290e-4521-a882-0ff11ff92e5c",
        "_uuid": "d9e0e0739589d23f6361ec09dadf76433a6cb52b"
      },
      "cell_type": "markdown",
      "source": "And even iterate over each character in a string:"
    },
    {
      "metadata": {
        "_cell_guid": "3c3e9ef5-8a1b-4ed7-9325-f9ca1fef496b",
        "_uuid": "e23aed2fe4a1e22023291b8aa66f6b0e983146aa",
        "trusted": false,
        "collapsed": true
      },
      "cell_type": "code",
      "source": "s = 'steganograpHy is the practicE of conceaLing a file, message, image, or video within another fiLe, message, image, Or video.'\nmsg = ''\n# print all the uppercase letters in s, one at a time\nfor char in s:\n    if char.isupper():\n        print(char, end='')        ",
      "execution_count": null,
      "outputs": []
    },
    {
      "metadata": {
        "_cell_guid": "f7274468-216c-4721-b5bb-69126c555d8a",
        "_uuid": "7bad67f8f6c4308fa9a6865efcd78fce306db1c7"
      },
      "cell_type": "markdown",
      "source": "### range()\n\n`range()` is a function that returns a sequence of numbers. It turns out to be very useful for writing loops.\n\nFor example, if we want to repeat some action 5 times:"
    },
    {
      "metadata": {
        "trusted": false,
        "_uuid": "3680e41e0e761326e4dd1c10c3809b22d8576210",
        "collapsed": true
      },
      "cell_type": "code",
      "source": "for i in range(5):\n    print(\"Doing important work. i =\", i)",
      "execution_count": null,
      "outputs": []
    },
    {
      "metadata": {
        "_cell_guid": "a77f9a0a-8fce-4ae8-a60e-eaee1d82ec7f",
        "_uuid": "0b9ab2ee0278c1ed333fdeebb638253028c4b0fe"
      },
      "cell_type": "markdown",
      "source": "You might assume that `range(5)` returns the list `[0, 1, 2, 3, 4]`. The truth is a little bit more complicated:"
    },
    {
      "metadata": {
        "_cell_guid": "8547d9c8-4a48-471a-bd02-65d7dc37f441",
        "_uuid": "f66a55822c7eac817166d4f8e7128728d77abc1c",
        "trusted": false,
        "collapsed": true
      },
      "cell_type": "code",
      "source": "r = range(5)\nr",
      "execution_count": null,
      "outputs": []
    },
    {
      "metadata": {
        "_uuid": "f626eaa3897fff6b9dc367055018eec5b2208c26"
      },
      "cell_type": "markdown",
      "source": "`range` returns a \"range object\". It acts a lot like a list (it's iterable), but doesn't have all the same capabilities. As we saw yesterday, we can call `help()` on an object like `r` to see Python's documentation on that object, including all of its methods. Click the 'output' button if you're curious about what the help page for a range object looks like."
    },
    {
      "metadata": {
        "_kg_hide-output": true,
        "trusted": false,
        "_uuid": "1bfb2cc1a5d08b8f048d4be3ab36face4a17132f",
        "collapsed": true
      },
      "cell_type": "code",
      "source": "help(range)",
      "execution_count": null,
      "outputs": []
    },
    {
      "metadata": {
        "_uuid": "7e590fb5b873b6a6689936dbfdefbb7c2e8b0a99"
      },
      "cell_type": "markdown",
      "source": "Just as we can use `int()`, `float()`, and `bool()` to convert objects to another type, we can use `list()` to convert a list-like thing into a list, which shows a more familiar (and useful) representation:"
    },
    {
      "metadata": {
        "_cell_guid": "4765ffa1-ed9c-4744-9d38-18750d098c29",
        "_uuid": "426afc6603bfc86248a88bf3b9934326094128cc",
        "trusted": false,
        "collapsed": true
      },
      "cell_type": "code",
      "source": "list(range(5))",
      "execution_count": null,
      "outputs": []
    },
    {
      "metadata": {
        "_cell_guid": "4bf1e370-3400-4dff-b075-5237934aa810",
        "_uuid": "b3abe536d7aba6da5c02e1e0851ab5622ee4c053"
      },
      "cell_type": "markdown",
      "source": "Note that the range starts at zero, and that by convention the top of the range is not included in the output. `range(5)` gives the numbers from 0 up to *but not including* 5. \n\nThis may seem like a strange way to do things, but the documentation (accessed via `help(range)`) alludes to the reasoning when it says:\n\n> `range(4)` produces 0, 1, 2, 3.  These are exactly the valid indices for a list of 4 elements.  \n\nSo for any list `L`, `for i in range(len(L)):` will iterate over all its valid indices."
    },
    {
      "metadata": {
        "_cell_guid": "8757e298-a445-4f46-a941-af30c098ca1a",
        "_uuid": "d63aa82572d936fd7a9eaec306e403c1363789b0",
        "trusted": false,
        "collapsed": true
      },
      "cell_type": "code",
      "source": "nums = [1, 2, 4, 8, 16]\nfor i in range(len(nums)):\n    nums[i] = nums[i] * 2\nnums",
      "execution_count": null,
      "outputs": []
    },
    {
      "metadata": {
        "_uuid": "9b5dc5869a8b3470f5fb6c68c27e4fb6a91bbe7b"
      },
      "cell_type": "markdown",
      "source": "This is the classic way of iterating over the indices of a list or other sequence.\n\n> **Aside**: `for i in range(len(L)):` is analogous to constructs like `for (int i = 0; i < L.length; i++)` in other languages."
    },
    {
      "metadata": {
        "_uuid": "ae53878150ddb66ec3a0fdfa379e64036a3cc9aa"
      },
      "cell_type": "markdown",
      "source": "### `enumerate`\n\n`for foo in x` loops over the elements of a list and `for i in range(len(x))` loops over the indices of a list. What if you want to do both?\n\nEnter the `enumerate` function, one of Python's hidden gems:"
    },
    {
      "metadata": {
        "trusted": false,
        "_uuid": "df594eab7a105094abed15f912cb1a24e2317cf8",
        "collapsed": true
      },
      "cell_type": "code",
      "source": "def double_odds(nums):\n    for i, num in enumerate(nums):\n        if num % 2 == 1:\n            nums[i] = num * 2\n\nx = list(range(10))\ndouble_odds(x)\nx",
      "execution_count": null,
      "outputs": []
    },
    {
      "metadata": {
        "_cell_guid": "fbe620f9-77a1-442d-96e2-c262f945a8d9",
        "_uuid": "c581dd306f6f94f3baa5c1703a38766c114c678a"
      },
      "cell_type": "markdown",
      "source": "Given a list, `enumerate` returns an object which iterates over the indices *and* the values of the list.\n\n(Like the `range()` function, it returns an iterable object. To see its contents as a list, we can call `list()` on it.)"
    },
    {
      "metadata": {
        "_cell_guid": "6b82499f-0ea1-4069-b75c-2bc57a031ed8",
        "_uuid": "2a23411218ce9d1f7fea382ca414bf495d0853dd",
        "trusted": false,
        "collapsed": true
      },
      "cell_type": "code",
      "source": "list(enumerate(['a', 'b']))",
      "execution_count": null,
      "outputs": []
    },
    {
      "metadata": {
        "_uuid": "ba244c747ecfaf46daef346a508efdcfea7555be"
      },
      "cell_type": "markdown",
      "source": "We can see that that the things we were iterating over are tuples. This helps explain that `for i, num` syntax. We're \"unpacking\" the tuple, just like in this example from yesterday:"
    },
    {
      "metadata": {
        "trusted": false,
        "collapsed": true,
        "_uuid": "787861b3fbe867d17172dd04c68b933495a94c06"
      },
      "cell_type": "code",
      "source": "x = 0.125\nnumerator, denominator = x.as_integer_ratio()",
      "execution_count": null,
      "outputs": []
    },
    {
      "metadata": {
        "_uuid": "5238af6aca5fe8dab5a4d02dbde993cbcba723b6"
      },
      "cell_type": "markdown",
      "source": "We can use this unpacking syntax any time we iterate over a collection of tuples."
    },
    {
      "metadata": {
        "trusted": false,
        "_uuid": "f17f488b1ca4e68a0e25240cf5712f6b5eec5d27",
        "collapsed": true
      },
      "cell_type": "code",
      "source": "nums = [\n    ('one', 1, 'I'),\n    ('two', 2, 'II'),\n    ('three', 3, 'III'),\n    ('four', 4, 'IV'),\n]\n\nfor word, integer, roman_numeral in nums:\n    print(integer, word, roman_numeral, sep=' = ', end='; ')",
      "execution_count": null,
      "outputs": []
    },
    {
      "metadata": {
        "_uuid": "3d5b50b984d0c6e00f04b817067e40b9b20cdc61"
      },
      "cell_type": "markdown",
      "source": "This is equivalent to the following (more tedious) code:"
    },
    {
      "metadata": {
        "trusted": false,
        "_uuid": "bb236c71c0bb677e53ed7004577166fde142e4d2",
        "collapsed": true
      },
      "cell_type": "code",
      "source": "for tup in nums:\n    word = tup[0]\n    integer = tup[1]\n    roman_numeral = tup[2]\n    print(integer, word, roman_numeral, sep=' = ', end='; ')",
      "execution_count": null,
      "outputs": []
    },
    {
      "metadata": {
        "_cell_guid": "3277064e-3ed5-4568-afa4-bedeab36b235",
        "_uuid": "6fac8ccffc59f8fd5ae52302afe59fe0a0324150"
      },
      "cell_type": "markdown",
      "source": "## ``while`` loops\nThe other type of loop in Python is a ``while`` loop, which iterates until some condition is met:"
    },
    {
      "metadata": {
        "_cell_guid": "4fc07ab4-8169-425e-bf87-62847426a62d",
        "_uuid": "ee51b204c123c4fd9d3b6da2b9a1fd9bf1fa7ec9",
        "trusted": false,
        "collapsed": true
      },
      "cell_type": "code",
      "source": "i = 0\nwhile i < 10:\n    print(i, end=' ')\n    i += 1",
      "execution_count": null,
      "outputs": []
    },
    {
      "metadata": {
        "_cell_guid": "b3f0aed7-62c2-4d0f-813e-f4eb0dd07ada",
        "_uuid": "f3aacfdaa8d589a6c99fec327bafa795c9fce9d8"
      },
      "cell_type": "markdown",
      "source": "The argument of the ``while`` loop is evaluated as a boolean statement, and the loop is executed until the statement evaluates to False."
    },
    {
      "metadata": {
        "_cell_guid": "c8636b24-a159-4a0c-beff-8fe4050d7380",
        "_uuid": "4b27f92c0f071cfb442e26931577be5e0e848ec2"
      },
      "cell_type": "markdown",
      "source": "## List comprehensions\n\nList comprehensions are one of Python's most beloved and unique features. The easiest way to understand them is probably to just look at a few examples:"
    },
    {
      "metadata": {
        "trusted": false,
        "_uuid": "fabcaee676869f4e8cb3439475d53cd9d7d963f0",
        "collapsed": true
      },
      "cell_type": "code",
      "source": "squares = [n**2 for n in range(10)]\nsquares",
      "execution_count": null,
      "outputs": []
    },
    {
      "metadata": {
        "_uuid": "35011e55a9d8869f1e7f0865a74abea6fdfd5065"
      },
      "cell_type": "markdown",
      "source": "Here's how we would do the same thing without a list comprehension:"
    },
    {
      "metadata": {
        "trusted": false,
        "_uuid": "258f0d592655817e9129446eb455506b016ac4d6",
        "collapsed": true
      },
      "cell_type": "code",
      "source": "squares = []\nfor n in range(10):\n    squares.append(n**2)\nsquares",
      "execution_count": null,
      "outputs": []
    },
    {
      "metadata": {
        "_uuid": "8ec134920e73e63e5ae7c30caf4e80dad9cb12f1"
      },
      "cell_type": "markdown",
      "source": "We can also add an `if` condition:"
    },
    {
      "metadata": {
        "trusted": false,
        "_uuid": "4f8278227c081d661eb1a2c0f666d79bc8a0f983",
        "collapsed": true
      },
      "cell_type": "code",
      "source": "short_planets = [planet for planet in planets if len(planet) < 6]\nshort_planets",
      "execution_count": null,
      "outputs": []
    },
    {
      "metadata": {
        "_uuid": "ceabc9a591be062cd70046eab3ce05f9960792e7"
      },
      "cell_type": "markdown",
      "source": "(If you're familiar with SQL, you might think of this as being like a \"WHERE\" clause)\n\nHere's an example of filtering with an `if` condition *and* applying some transformation to the loop variable:"
    },
    {
      "metadata": {
        "trusted": false,
        "_uuid": "23326d78d24d02ef1b75f5d3ea96f07e50f7f2ae",
        "collapsed": true
      },
      "cell_type": "code",
      "source": "# str.upper() returns an all-caps version of a string\nloud_short_planets = [planet.upper() + '!' for planet in planets if len(planet) < 6]\nloud_short_planets",
      "execution_count": null,
      "outputs": []
    },
    {
      "metadata": {
        "_uuid": "aa55a7810765c1fec9f57c2d1943aa692ca3da04"
      },
      "cell_type": "markdown",
      "source": "People usually write these on a single line, but you might find the structure clearer when it's split up over 3 lines:"
    },
    {
      "metadata": {
        "_cell_guid": "fda431c7-1b8e-48f4-b45d-7882a68045b8",
        "_uuid": "b153430ffc140dedfd2bc18e64a7b849b9d5aaf1",
        "trusted": false,
        "collapsed": true
      },
      "cell_type": "code",
      "source": "[\n    planet.upper() + '!' \n    for planet in planets \n    if len(planet) < 6\n]",
      "execution_count": null,
      "outputs": []
    },
    {
      "metadata": {
        "_cell_guid": "c4f0d520-b5de-4f82-8e34-b7b08c082e0a",
        "_uuid": "8ec68ade7be66f29aca575c4dd87b219b9527b34"
      },
      "cell_type": "markdown",
      "source": "(Continuing the SQL analogy, you could think of these three lines as SELECT, FROM, and WHERE)\n\nThe expression on the left doesn't technically have to involve the loop variable (though it'd be pretty unusual for it not to). What do you think the expression below will evaluate to? Press the 'output' button to check. "
    },
    {
      "metadata": {
        "_kg_hide-output": true,
        "trusted": false,
        "_uuid": "49f2882a7dfe58403246f3f70a62020c79ee384a",
        "collapsed": true
      },
      "cell_type": "code",
      "source": "[32 for planet in planets]",
      "execution_count": null,
      "outputs": []
    },
    {
      "metadata": {
        "_cell_guid": "e6980deb-c8f3-40b8-b9ce-47bcde1a27d9",
        "_uuid": "2b308d2863953f3a0ec029fab30f61fd9d91321f",
        "collapsed": true
      },
      "cell_type": "markdown",
      "source": "List comprehensions combined with some of the functions we've seen like `min`, `max`, `sum`, `len`, and `sorted`, can lead to some pretty impressive one-line solutions for problems that would otherwise require several lines of code. \n\nFor example, yesterday's exercise included a brainteaser asking you to write a function to count the number of negative numbers in a list *without using loops* (or any other syntax we hadn't seen). Here's how we might solve the problem now that we have loops in our arsenal:\n"
    },
    {
      "metadata": {
        "trusted": false,
        "collapsed": true,
        "_uuid": "ae88f5a88ead4c1de37ec5c014e72d99627c7372"
      },
      "cell_type": "code",
      "source": "def count_negatives(nums):\n    \"\"\"Return the number of negative numbers in the given list.\n    \n    >>> count_negatives([5, -1, -2, 0, 3])\n    2\n    \"\"\"\n    n_negative = 0\n    for num in nums:\n        if num < 0:\n            n_negative = n_negative + 1\n    return n_negative",
      "execution_count": null,
      "outputs": []
    },
    {
      "metadata": {
        "_uuid": "e2c75f49278e8efb1b0a49ed7879505815b97aa0"
      },
      "cell_type": "markdown",
      "source": "Here's a solution using a list comprehension:"
    },
    {
      "metadata": {
        "trusted": false,
        "collapsed": true,
        "_uuid": "9cfb3355dbb91d80a3717e8a2a1ef77fc4389b43"
      },
      "cell_type": "code",
      "source": "def count_negatives(nums):\n    return len([num for num in nums if num < 0])",
      "execution_count": null,
      "outputs": []
    },
    {
      "metadata": {
        "_cell_guid": "719fb5bf-ba1e-40e4-bc87-fcbf19364a8b",
        "_uuid": "c03052d00764b190eae2ae4b7303fcc053e28262"
      },
      "cell_type": "markdown",
      "source": "Much better, right?\n\nWell if all we care about is minimizing the length of our code, this third solution is better still!"
    },
    {
      "metadata": {
        "trusted": false,
        "collapsed": true,
        "_uuid": "ef8ade61e22423ec2744efec27f20dc91c95e621"
      },
      "cell_type": "code",
      "source": "def count_negatives(nums):\n    # Reminder: in the day 3 exercise we learned about a quirk of Python where it calculates\n    # something like True + True + False + True to be equal to 3.\n    return sum([num < 0 for num in nums])",
      "execution_count": null,
      "outputs": []
    },
    {
      "metadata": {
        "_uuid": "9e2a30de3a4bb61787df68f23d7580d8bb87bdad"
      },
      "cell_type": "markdown",
      "source": "Which of these solutions is the \"best\" is entirely subjective. Solving a problem with less code is always nice, but it's worth keeping in mind the following lines from [The Zen of Python](https://en.wikipedia.org/wiki/Zen_of_Python):\n\n> Readability counts.  \n> Explicit is better than implicit.\n\nThe last definition of `count_negatives` might be the shortest, but will other people reading your code understand how it works? \n\nWriting Pythonic code doesn't mean never using for loops!"
    },
    {
      "metadata": {
        "_uuid": "2eb6b3211ad295f65c19862def7ee22d1eca1ad0"
      },
      "cell_type": "markdown",
      "source": "# Your turn\n\nHead over to [the Exercises notebook](https://www.kaggle.com/kernels/fork/961955) to get some hands-on practice working with loops and list comprehensions."
    }
  ],
  "metadata": {
    "anaconda-cloud": {},
    "kernelspec": {
      "display_name": "Python 3",
      "language": "python",
      "name": "python3"
    },
    "language_info": {
      "name": "python",
      "version": "3.6.5",
      "mimetype": "text/x-python",
      "codemirror_mode": {
        "name": "ipython",
        "version": 3
      },
      "pygments_lexer": "ipython3",
      "nbconvert_exporter": "python",
      "file_extension": ".py"
    }
  },
  "nbformat": 4,
  "nbformat_minor": 1
}