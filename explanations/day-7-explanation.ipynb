{
  "cells": [
    {
      "metadata": {
        "_uuid": "83fbb033557531a2776002faa54c1f5d03fff170"
      },
      "cell_type": "markdown",
      "source": "Welcome to day 7 of the Python Challenge. The very last one!\n\nIf you missed any of the previous days, here are the links:\n\n- [Day 1 (syntax, variable assignment, numbers)](https://www.kaggle.com/colinmorris/learn-python-challenge-day-1)\n- [Day 2 (functions and getting help)](https://www.kaggle.com/colinmorris/learn-python-challenge-day-2)\n- [Day 3 (booleans and conditionals)](https://www.kaggle.com/colinmorris/learn-python-challenge-day-3)\n- [Day 4 (lists and objects)](https://www.kaggle.com/colinmorris/learn-python-challenge-day-4)\n- [Day 5 (loops and list comprehensions)](https://www.kaggle.com/colinmorris/learn-python-challenge-day-5)\n- [Day 6 (strings and dictionaries)](https://www.kaggle.com/colinmorris/learn-python-challenge-day-6)\n\nToday I'll be talking about **imports** in Python, giving some tips for working with unfamiliar libraries (and the objects they return), and digging into the guts of Python just a bit to talk about **operator overloading**."
    },
    {
      "metadata": {
        "_uuid": "584152eb38a23ff1191a9af97c8821430b3a9a3b"
      },
      "cell_type": "markdown",
      "source": "## Imports\n\nSo far we've talked about types and functions which are built-in to the language. \n\nBut one of the best things about Python (especially if you're a data scientist) is the vast number of high-quality custom libraries that have been written for it. \n\nSome of these libraries are in the \"standard library\", meaning you can find them anywhere you run Python. Others libraries can be easily added, even if they aren't always shipped with Python.\n\nEither way, we'll access this code with **imports**.\n\nWe'll start our example by importing `math` from the standard library."
    },
    {
      "metadata": {
        "trusted": true,
        "_uuid": "b2aa783c827acfb68e0b65710a8ef6aa54cd8898",
        "collapsed": true
      },
      "cell_type": "code",
      "source": "import math\n\nprint(\"It's math! It has type {}\".format(type(math)))",
      "execution_count": null,
      "outputs": []
    },
    {
      "metadata": {
        "_uuid": "c66908e68ca7f45f2ac050cf9f24f4518ac370b8"
      },
      "cell_type": "markdown",
      "source": "`math` is a module. A module is just a collection of variables (a *namespace*, if you like) defined by someone else. We can see all the names in `math` using the built-in function `dir()`."
    },
    {
      "metadata": {
        "trusted": true,
        "_uuid": "7622913d91b4a9f4ba01097bc749934e3b2ad008",
        "collapsed": true
      },
      "cell_type": "code",
      "source": "print(dir(math))",
      "execution_count": null,
      "outputs": []
    },
    {
      "metadata": {
        "_uuid": "beabb2c27c63e06fae58b6888f1019a210cd3a22"
      },
      "cell_type": "markdown",
      "source": "We can access these variables using dot syntax. Some of them refer to simple values, like `math.pi`:"
    },
    {
      "metadata": {
        "trusted": true,
        "_uuid": "e72257580f01c4636a7a002285fd0ba67f09f840",
        "collapsed": true
      },
      "cell_type": "code",
      "source": "print(\"pi to 4 significant digits = {:.4}\".format(math.pi))",
      "execution_count": null,
      "outputs": []
    },
    {
      "metadata": {
        "_uuid": "b384493c7419686dcaf111db4887c822ceab3664"
      },
      "cell_type": "markdown",
      "source": "But most of what we'll find in the module are functions, like `math.log`:"
    },
    {
      "metadata": {
        "trusted": true,
        "_uuid": "a9d4c329e3fb4198c67483254bebe5488adc66ab",
        "collapsed": true
      },
      "cell_type": "code",
      "source": "math.log(32, 2)",
      "execution_count": null,
      "outputs": []
    },
    {
      "metadata": {
        "_uuid": "2070b32e6d0743a6408c1a187a8f241887e4b090"
      },
      "cell_type": "markdown",
      "source": "Of course, if we don't know what `math.log` does, we can call `help()` on it:"
    },
    {
      "metadata": {
        "trusted": true,
        "_uuid": "2f8ad52be29e4ebb050c315db1ce7381bb42664d",
        "collapsed": true
      },
      "cell_type": "code",
      "source": "help(math.log)",
      "execution_count": null,
      "outputs": []
    },
    {
      "metadata": {
        "_uuid": "92117baca708ea40b711659a6c9f786da8044eb8"
      },
      "cell_type": "markdown",
      "source": "We can also call `help()` on the module itself. This will give us the combined documentation for *all* the functions and values in the module (as well as a high-level description of the module). Click the \"output\" button to see the whole `math` help page."
    },
    {
      "metadata": {
        "_kg_hide-output": true,
        "trusted": true,
        "_uuid": "ce870462561981a9dff837d7c38aa64f32ae6f7b",
        "collapsed": true
      },
      "cell_type": "code",
      "source": "help(math)",
      "execution_count": null,
      "outputs": []
    },
    {
      "metadata": {
        "_uuid": "99e72da65d9c1bf419f05bb8def7ee904666396b"
      },
      "cell_type": "markdown",
      "source": "### Other import syntax\n\nIf we know we'll be using functions in `math` frequently we can import it under a shorter alias to save some typing (though in this case \"math\" is already pretty short)."
    },
    {
      "metadata": {
        "trusted": true,
        "_uuid": "3126853dd9435cd6a9f5f9cff2e996d6215b9397",
        "collapsed": true
      },
      "cell_type": "code",
      "source": "import math as mt\nmt.pi",
      "execution_count": null,
      "outputs": []
    },
    {
      "metadata": {
        "_uuid": "7dfbe0c0b309b6bd62cb33c968c6ddfb51536971"
      },
      "cell_type": "markdown",
      "source": "> You may have seen code that does this with certain popular libraries like Pandas, Numpy, Tensorflow, or Matplotlib. For example, it's a common convention to `import numpy as np` and `import pandas as pd`."
    },
    {
      "metadata": {
        "_uuid": "9575c56fc06ccf836c7d8722d6e3631bfdbda3a6"
      },
      "cell_type": "markdown",
      "source": "The `as` simply renames the imported module. It's equivalent to doing something like:"
    },
    {
      "metadata": {
        "trusted": true,
        "collapsed": true,
        "_uuid": "12e0d79e59a0afeea3adea8d6703b4e0de3507ba"
      },
      "cell_type": "code",
      "source": "import math\nmt = math",
      "execution_count": null,
      "outputs": []
    },
    {
      "metadata": {
        "_uuid": "820b11054039bea3e552e5bb9c99963aaf5bfbe4"
      },
      "cell_type": "markdown",
      "source": "Wouldn't it be great if we could refer to all the variables in the `math` module by themselves? i.e. if we could just refer to `pi` instead of `math.pi` or `mt.pi`? Good news: we can do that."
    },
    {
      "metadata": {
        "trusted": true,
        "_uuid": "65aa83f13a687d32ef58a58171f96349acab7d44",
        "collapsed": true
      },
      "cell_type": "code",
      "source": "from math import *\nprint(pi, log(32, 2))",
      "execution_count": null,
      "outputs": []
    },
    {
      "metadata": {
        "_uuid": "d41ec6cbe594af490e8bad88fd862669db3bf4f6"
      },
      "cell_type": "markdown",
      "source": "`import *` makes all the module's variables directly accessible to you (without any dotted prefix).\n\nBad news: some purists might grumble at you for doing this.\n\nWorse: they kind of have a point."
    },
    {
      "metadata": {
        "trusted": true,
        "_uuid": "339aa3b58b401451f2fa3846902f2c92380d6de3",
        "collapsed": true
      },
      "cell_type": "code",
      "source": "from math import *\nfrom numpy import *\nprint(pi, log(32, 2))",
      "execution_count": null,
      "outputs": []
    },
    {
      "metadata": {
        "_uuid": "b5c3d4f09b7899abf100974e72a4b66bb3a9273f"
      },
      "cell_type": "markdown",
      "source": "What the what? But it worked before!\n\nThese kinds of \"star imports\" can occasionally lead to weird, difficult-to-debug situations.\n\nThe problem in this case is that the `math` and `numpy` modules both have functions called `log`, but they have different semantics. Because we import from `numpy` second, its `log` overwrites (or \"shadows\") the `log` variable we imported from `math`.\n\nA good compromise is to import only the specific things we'll need from each module:"
    },
    {
      "metadata": {
        "trusted": true,
        "collapsed": true,
        "_uuid": "50b507bd2dc1f38b158dbca4a35ee9043a353fb3"
      },
      "cell_type": "code",
      "source": "from math import log, pi\nfrom numpy import asarray",
      "execution_count": null,
      "outputs": []
    },
    {
      "metadata": {
        "_uuid": "75f473cbbc27750c49f01e5c67ab1750c448650c"
      },
      "cell_type": "markdown",
      "source": "### Submodules\n\nWe've seen that modules contain variables which can refer to functions or values. Something to be aware of is that they can also have variables referring to *other modules*. "
    },
    {
      "metadata": {
        "trusted": true,
        "_uuid": "93fb6e986b941b8516141ea9aa15c7cff0eeec8f",
        "collapsed": true
      },
      "cell_type": "code",
      "source": "import numpy\nprint(\"numpy.random is a\", type(numpy.random))\nprint(\"it contains names such as...\",\n      dir(numpy.random)[-15:]\n     )",
      "execution_count": null,
      "outputs": []
    },
    {
      "metadata": {
        "_uuid": "b90df6ec1d9d8db9227210b97b010f25f483aa93"
      },
      "cell_type": "markdown",
      "source": "So if we import `numpy` as above, then calling a function in the `random` \"submodule\" will require *two* dots."
    },
    {
      "metadata": {
        "trusted": true,
        "_uuid": "16732dadf1bd766dee7cf1e41cad59f52a9ca60a",
        "collapsed": true
      },
      "cell_type": "code",
      "source": "# Roll 10 dice\nrolls = numpy.random.randint(low=1, high=6, size=10)\nrolls",
      "execution_count": null,
      "outputs": []
    },
    {
      "metadata": {
        "_uuid": "a15a62954fdb5fb9378c63101cbccce2e1342106"
      },
      "cell_type": "markdown",
      "source": "# Oh the places you'll go, oh the objects you'll see\n\nSo after 6 days of the Python Challenge, you're a pro with ints, floats, bools, lists, strings, and dicts (right?). \n\nEven if that were true, it doesn't end there. As you work with various libraries for specialized tasks, you'll find that they define their own types which you'll have to learn to work with. For example, if you work with the graphing library `matplotlib`, you'll be coming into contact with objects it defines which represent Subplots, Figures, TickMarks, and Annotations. `pandas` functions will give you DataFrames and Series. \n\nIn this section, I want to share with you a quick survival guide for working with strange types.\n\n## Three tools for understanding strange objects\n\nIn the cell above, we saw that calling a `numpy` function gave us an \"array\". We've never seen anything like this before (not in the Python Challenge anyways). But don't panic: we have three familiar builtin functions to help us here.\n\n**1: `type()`** (what is this thing?)"
    },
    {
      "metadata": {
        "trusted": true,
        "_uuid": "fa902669552da9749e7364fda11772917ab3690b",
        "collapsed": true
      },
      "cell_type": "code",
      "source": "type(rolls)",
      "execution_count": null,
      "outputs": []
    },
    {
      "metadata": {
        "_uuid": "c4eab1e3befc941a478c5d0794b18ce63f877650"
      },
      "cell_type": "markdown",
      "source": "**2: `dir()`** (what can I do with it?)"
    },
    {
      "metadata": {
        "trusted": true,
        "_uuid": "b0cefe4d30b7f45f44c040972f238337638288eb",
        "collapsed": true
      },
      "cell_type": "code",
      "source": "print(dir(rolls))",
      "execution_count": null,
      "outputs": []
    },
    {
      "metadata": {
        "trusted": true,
        "_uuid": "fde178af0cf4209101e75cef9fb7024c85efc170",
        "collapsed": true
      },
      "cell_type": "code",
      "source": "# What am I trying to do with this dice roll data? Maybe I want the average roll, in which case the \"mean\"\n# method looks promising...\nrolls.mean()",
      "execution_count": null,
      "outputs": []
    },
    {
      "metadata": {
        "trusted": true,
        "_uuid": "5542370d997c845c44794e1f3b6762e54effa8d3",
        "collapsed": true
      },
      "cell_type": "code",
      "source": "# Or maybe I just want to get back on familiar ground, in which case I might want to check out \"tolist\"\nrolls.tolist()",
      "execution_count": null,
      "outputs": []
    },
    {
      "metadata": {
        "_uuid": "7a34c5b138c8eb9d26a91d29a245ff11a2f06df2"
      },
      "cell_type": "markdown",
      "source": "**3: `help()`** (tell me more)"
    },
    {
      "metadata": {
        "trusted": true,
        "_uuid": "48b9728e2b574c2622102006e52b45ed06cc30d3",
        "collapsed": true
      },
      "cell_type": "code",
      "source": "# That \"ravel\" attribute sounds interesting. I'm a big classical music fan.\nhelp(rolls.ravel)",
      "execution_count": null,
      "outputs": []
    },
    {
      "metadata": {
        "_kg_hide-output": true,
        "trusted": true,
        "_uuid": "a2bc3fed8c321d8060276811a26786577fe80582",
        "collapsed": true
      },
      "cell_type": "code",
      "source": "# Okay, just tell me everything there is to know about numpy.ndarray\n# (Click the \"output\" button to see the novel-length output)\nhelp(rolls)",
      "execution_count": null,
      "outputs": []
    },
    {
      "metadata": {
        "_uuid": "fa4b0532e766da5cb8740d6b941f0276b8a5c773"
      },
      "cell_type": "markdown",
      "source": "(Of course, you might also prefer to check out [the online docs](https://docs.scipy.org/doc/numpy-1.14.0/reference/generated/numpy.ndarray.html))"
    },
    {
      "metadata": {
        "_uuid": "0b11f9faa9c9b406fa726c8c2678976a9f13ecab"
      },
      "cell_type": "markdown",
      "source": "### Operator overloading\n\nWhat's the value of the below expression?"
    },
    {
      "metadata": {
        "trusted": true,
        "_uuid": "f1fa023b0bed26d270dd550aae15fa5a4ee7fc87",
        "collapsed": true
      },
      "cell_type": "code",
      "source": "[3, 4, 1, 2, 2, 1] + 10",
      "execution_count": null,
      "outputs": []
    },
    {
      "metadata": {
        "_uuid": "05b20e4f53883f130a861c4c51af576bbed3b54e"
      },
      "cell_type": "markdown",
      "source": "What a silly question. Of course it's an error. \n\nBut what about..."
    },
    {
      "metadata": {
        "trusted": true,
        "_uuid": "384277aa6bc4a3cdc74c61de26a98d25a0dc4dfd",
        "collapsed": true
      },
      "cell_type": "code",
      "source": "rolls + 10",
      "execution_count": null,
      "outputs": []
    },
    {
      "metadata": {
        "_uuid": "3c2fb6277b556e60fd5ac486398c09a9af57632d"
      },
      "cell_type": "markdown",
      "source": "We might think that Python strictly polices how pieces of its core syntax behave such as `+`, `<`, `in`, `==`, or square brackets for indexing and slicing. But in fact, it takes a very hands-off approach. When you define a new type, you can choose how addition works for it, or what it means for an object of that type to be equal to something else.\n\nThe designers of lists decided that adding them to numbers wasn't allowed. The designers of `numpy` arrays went a different way (adding the number to each element of the array).\n\nHere are a few more examples of how `numpy` arrays interact unexpectedly with Python operators (or at least differently from lists)."
    },
    {
      "metadata": {
        "trusted": true,
        "_uuid": "7c8e4f976417fe708fe1eba0dcac9ef48f5b35e6",
        "collapsed": true
      },
      "cell_type": "code",
      "source": "# At which indices are the dice less than or equal to 3?\nrolls <= 3",
      "execution_count": null,
      "outputs": []
    },
    {
      "metadata": {
        "trusted": true,
        "_uuid": "8d658abb462c92985563db75112ab7829d7f3b07",
        "collapsed": true
      },
      "cell_type": "code",
      "source": "xlist = [[1,2,3],[2,4,6],]\n# Create a 2-dimensional array\nx = numpy.asarray(xlist)\nprint(\"xlist = {}\\nx =\\n{}\".format(xlist, x))",
      "execution_count": null,
      "outputs": []
    },
    {
      "metadata": {
        "trusted": true,
        "_uuid": "f6c3a16859c89a5c8cc387fae9635d6c24837918",
        "collapsed": true
      },
      "cell_type": "code",
      "source": "# Get the last element of the second row of our numpy array\nx[1,-1]",
      "execution_count": null,
      "outputs": []
    },
    {
      "metadata": {
        "trusted": true,
        "_uuid": "d71a6cb85f61c77dc4641c41e154ffd2382df6ed",
        "collapsed": true
      },
      "cell_type": "code",
      "source": "# Get the last element of the second sublist of our nested list?\nxlist[1,-1]",
      "execution_count": null,
      "outputs": []
    },
    {
      "metadata": {
        "_uuid": "12181bd51cad73b607be0fcf7e746ca7e5e4c067"
      },
      "cell_type": "markdown",
      "source": "numpy's `ndarray` type is specialized for working with multi-dimensional data, so it defines its own logic for indexing, allowing us to index by a tuple to specify the index at each dimension.\n\n### When does 1 + 1 not equal 2?\n\nThings can get weirder than this. You may have heard of (or even used) tensorflow, a Python library popularly used for deep learning. It makes extensive use of operator overloading."
    },
    {
      "metadata": {
        "trusted": true,
        "_uuid": "c53d232a6ea2dc8e62d72acb5cdcd4da8e613568",
        "collapsed": true
      },
      "cell_type": "code",
      "source": "import tensorflow as tf\n# Create two constants, each with value 1\na = tf.constant(1)\nb = tf.constant(1)\n# Add them together to get...\na + b",
      "execution_count": null,
      "outputs": []
    },
    {
      "metadata": {
        "_uuid": "729d0f6542422153db7db3bfd4aebdb2dd07dec9"
      },
      "cell_type": "markdown",
      "source": "`a + b` isn't 2, it is (to quote tensorflow's documentation)...\n\n> a symbolic handle to one of the outputs of an `Operation`. It does not hold the values of that operation's output, but instead provides a means of computing those values in a TensorFlow `tf.Session`.\n\n"
    },
    {
      "metadata": {
        "_uuid": "ffab0bec63f0fab12867bedac743a975191b0ce4"
      },
      "cell_type": "markdown",
      "source": "It's important just to be aware of the fact that this sort of thing is possible and that libraries will often use operator overloading in non-obvious or magical-seeming ways.\n\nUnderstanding how Python's operators work when applied to ints, strings, and lists is no guarantee that you'll be able to immediately understand what they do when applied to a tensorflow `Tensor`, or a numpy `ndarray`, or a pandas `DataFrame`.\n\nOnce you've had a little taste of DataFrames, for example, an expression like the one below starts to look appealingly intuitive:\n\n```python\n# Get the rows with population over 1m in South America\ndf[(df['population'] > 10*6) & (df['continent'] == 'South America')]\n```\n\nBut why does it work? The example above features something like **5** different overloaded operators. What's each of those operations doing? It can help to know the answer when things start going wrong."
    },
    {
      "metadata": {
        "_uuid": "94ae50a79b35eda288c6cfa1503a6c3e0f4fcdbe"
      },
      "cell_type": "markdown",
      "source": "#### Curious how it all works?\n\nHave you ever called `help()` or `dir()` on an object and wondered what the heck all those names with the double-underscores were?"
    },
    {
      "metadata": {
        "trusted": true,
        "_uuid": "ad3a581d92d09fc6dbeb42ffb6f3a160b7a8a98b",
        "collapsed": true
      },
      "cell_type": "code",
      "source": "print(dir(list))",
      "execution_count": null,
      "outputs": []
    },
    {
      "metadata": {
        "_uuid": "942882a0bde1338caf90ac72fab5f43c14d772e4"
      },
      "cell_type": "markdown",
      "source": "This turns out to be directly related to operator overloading.\n\nWhen Python programmers want to define how operators behave on their types, they do so by implementing methods with special names beginning and ending with 2 underscores such as `__lt__`, `__setattr__`, or `__contains__`. Generally, names that follow this double-underscore format have a special meaning to Python.\n\nSo, for example, the expression `x in [1, 2, 3]` is actually calling the list method `__contains__` behind-the-scenes. It's equivalent to (the much uglier) `[1, 2, 3].__contains__(x)`. \n\nIf you're curious to learn more, you can check out [Python's official documentation](https://docs.python.org/3.4/reference/datamodel.html#special-method-names), which describes many, many more of these special \"underscores\" methods.\n\nWe won't be defining our own types as part of the Learn Python Challenge (if only there was time!), but I hope you'll get to experience the joys of defining your own wonderful, weird types later down the road."
    },
    {
      "metadata": {
        "_uuid": "c7e39e4d7624dca0c841fee5c5b5b106b6ab0488"
      },
      "cell_type": "markdown",
      "source": "# Your turn!\n\nHead over to [the very last Exercises notebook](https://www.kaggle.com/kernels/fork/1164833) for one more round of coding questions involving imports, working with unfamiliar objects, and, of course, more gambling. "
    }
  ],
  "metadata": {
    "kernelspec": {
      "display_name": "Python 3",
      "language": "python",
      "name": "python3"
    },
    "language_info": {
      "name": "python",
      "version": "3.6.5",
      "mimetype": "text/x-python",
      "codemirror_mode": {
        "name": "ipython",
        "version": 3
      },
      "pygments_lexer": "ipython3",
      "nbconvert_exporter": "python",
      "file_extension": ".py"
    }
  },
  "nbformat": 4,
  "nbformat_minor": 1
}